{
 "cells": [
  {
   "attachments": {},
   "cell_type": "markdown",
   "id": "200ef405",
   "metadata": {
    "papermill": {
     "duration": 0.009876,
     "end_time": "2023-04-16T07:06:06.337904",
     "exception": false,
     "start_time": "2023-04-16T07:06:06.328028",
     "status": "completed"
    },
    "tags": []
   },
   "source": [
    "# This notebook made by: https://github.com/Strikoder"
   ]
  },
  {
   "attachments": {},
   "cell_type": "markdown",
   "id": "76dcf363",
   "metadata": {
    "papermill": {
     "duration": 0.008331,
     "end_time": "2023-04-16T07:06:06.354962",
     "exception": false,
     "start_time": "2023-04-16T07:06:06.346631",
     "status": "completed"
    },
    "tags": []
   },
   "source": [
    "# Imports and initilizations¶"
   ]
  },
  {
   "cell_type": "code",
   "execution_count": 2,
   "id": "dc876fc8",
   "metadata": {
    "execution": {
     "iopub.execute_input": "2023-04-16T07:06:06.411583Z",
     "iopub.status.busy": "2023-04-16T07:06:06.411319Z",
     "iopub.status.idle": "2023-04-16T07:06:27.995199Z",
     "shell.execute_reply": "2023-04-16T07:06:27.994212Z"
    },
    "papermill": {
     "duration": 21.596832,
     "end_time": "2023-04-16T07:06:27.997328",
     "exception": false,
     "start_time": "2023-04-16T07:06:06.400496",
     "status": "completed"
    },
    "tags": []
   },
   "outputs": [
    {
     "name": "stderr",
     "output_type": "stream",
     "text": [
      "c:\\Users\\Himasha\\AppData\\Local\\Programs\\Python\\Python311\\Lib\\site-packages\\tqdm\\auto.py:21: TqdmWarning: IProgress not found. Please update jupyter and ipywidgets. See https://ipywidgets.readthedocs.io/en/stable/user_install.html\n",
      "  from .autonotebook import tqdm as notebook_tqdm\n",
      "Some layers from the model checkpoint at bert-base-uncased were not used when initializing TFBertModel: ['mlm___cls', 'nsp___cls']\n",
      "- This IS expected if you are initializing TFBertModel from the checkpoint of a model trained on another task or with another architecture (e.g. initializing a BertForSequenceClassification model from a BertForPreTraining model).\n",
      "- This IS NOT expected if you are initializing TFBertModel from the checkpoint of a model that you expect to be exactly identical (initializing a BertForSequenceClassification model from a BertForSequenceClassification model).\n",
      "All the layers of TFBertModel were initialized from the model checkpoint at bert-base-uncased.\n",
      "If your task is similar to the task the model of the checkpoint was trained on, you can already use TFBertModel for predictions without further training.\n"
     ]
    }
   ],
   "source": [
    "import numpy as np\n",
    "import pandas as pd\n",
    "import matplotlib.pyplot as plt\n",
    "import seaborn as sns\n",
    "import missingno as msno #Heatmap\n",
    "from sklearn.preprocessing import LabelEncoder\n",
    "import pickle\n",
    "\n",
    "import string\n",
    "import nltk\n",
    "#nltk.download('punkt')\n",
    "#nltk.download('stopwords')\n",
    "from nltk.corpus import stopwords\n",
    "from nltk.stem import PorterStemmer\n",
    "from wordcloud import WordCloud\n",
    "\n",
    "from sklearn.preprocessing import StandardScaler, MinMaxScaler\n",
    "from sklearn.model_selection import cross_val_score, train_test_split, KFold, RandomizedSearchCV\n",
    "from sklearn.pipeline import Pipeline, make_pipeline\n",
    "from catboost import CatBoostClassifier\n",
    "from sklearn.feature_extraction.text import CountVectorizer, TfidfVectorizer\n",
    "from sklearn.naive_bayes import GaussianNB,MultinomialNB,BernoulliNB\n",
    "from sklearn.metrics import accuracy_score,confusion_matrix,precision_score\n",
    "from sklearn.linear_model import LogisticRegression\n",
    "from sklearn.svm import SVC\n",
    "from sklearn.naive_bayes import MultinomialNB\n",
    "from sklearn.tree import DecisionTreeClassifier\n",
    "from sklearn.neighbors import KNeighborsClassifier\n",
    "from sklearn.ensemble import RandomForestClassifier\n",
    "from sklearn.ensemble import AdaBoostClassifier\n",
    "from sklearn.ensemble import BaggingClassifier\n",
    "from sklearn.ensemble import ExtraTreesClassifier\n",
    "from sklearn.ensemble import GradientBoostingClassifier\n",
    "from xgboost import XGBClassifier\n",
    "from sklearn.ensemble import VotingClassifier\n",
    "from sklearn.ensemble import StackingClassifier\n",
    "\n",
    "#TF\n",
    "\n",
    "\n",
    "\n",
    "import tensorflow as tf\n",
    "import keras\n",
    "from keras.models import Sequential\n",
    "\n",
    "\n",
    "from keras.models import Model\n",
    "from keras.layers import LSTM, Activation, Dense, Dropout, Input, Embedding\n",
    "from keras.optimizers import RMSprop\n",
    "from keras.preprocessing.text import Tokenizer\n",
    "from keras.preprocessing import sequence\n",
    "\n",
    "from tensorflow.keras.preprocessing.sequence import pad_sequences\n",
    "from keras.utils import to_categorical\n",
    "from keras.callbacks import EarlyStopping\n",
    "\n",
    "\n",
    "from keras.layers import LeakyReLU,PReLU,ELU\n",
    "from keras.layers import Dropout\n",
    "\n",
    "\n",
    "from tqdm.notebook import tqdm\n",
    "from tokenizers import BertWordPieceTokenizer\n",
    "\n",
    "from transformers import TFBertModel\n",
    "bert_model = TFBertModel.from_pretrained('bert-base-uncased')\n",
    "\n",
    "import pickle\n",
    "pd.set_option('display.max_rows', None)"
   ]
  },
  {
   "cell_type": "code",
   "execution_count": 3,
   "id": "9c34af6c",
   "metadata": {
    "execution": {
     "iopub.execute_input": "2023-04-16T07:06:28.018446Z",
     "iopub.status.busy": "2023-04-16T07:06:28.017517Z",
     "iopub.status.idle": "2023-04-16T07:06:48.279651Z",
     "shell.execute_reply": "2023-04-16T07:06:48.278320Z"
    },
    "papermill": {
     "duration": 20.27497,
     "end_time": "2023-04-16T07:06:48.282290",
     "exception": false,
     "start_time": "2023-04-16T07:06:28.007320",
     "status": "completed"
    },
    "tags": []
   },
   "outputs": [],
   "source": [
    "#%pip install xgboost\n",
    "\n"
   ]
  },
  {
   "cell_type": "code",
   "execution_count": 25,
   "id": "b0954bd1",
   "metadata": {
    "execution": {
     "iopub.execute_input": "2023-04-16T07:06:48.303332Z",
     "iopub.status.busy": "2023-04-16T07:06:48.302981Z",
     "iopub.status.idle": "2023-04-16T07:06:48.346681Z",
     "shell.execute_reply": "2023-04-16T07:06:48.345582Z"
    },
    "papermill": {
     "duration": 0.056751,
     "end_time": "2023-04-16T07:06:48.348976",
     "exception": false,
     "start_time": "2023-04-16T07:06:48.292225",
     "status": "completed"
    },
    "tags": []
   },
   "outputs": [
    {
     "data": {
      "text/html": [
       "<div>\n",
       "<style scoped>\n",
       "    .dataframe tbody tr th:only-of-type {\n",
       "        vertical-align: middle;\n",
       "    }\n",
       "\n",
       "    .dataframe tbody tr th {\n",
       "        vertical-align: top;\n",
       "    }\n",
       "\n",
       "    .dataframe thead th {\n",
       "        text-align: right;\n",
       "    }\n",
       "</style>\n",
       "<table border=\"1\" class=\"dataframe\">\n",
       "  <thead>\n",
       "    <tr style=\"text-align: right;\">\n",
       "      <th></th>\n",
       "      <th>Unnamed: 0</th>\n",
       "      <th>label</th>\n",
       "      <th>text</th>\n",
       "      <th>label_num</th>\n",
       "    </tr>\n",
       "  </thead>\n",
       "  <tbody>\n",
       "    <tr>\n",
       "      <th>0</th>\n",
       "      <td>605</td>\n",
       "      <td>ham</td>\n",
       "      <td>Subject: enron methanol ; meter # : 988291\\r\\n...</td>\n",
       "      <td>0</td>\n",
       "    </tr>\n",
       "    <tr>\n",
       "      <th>1</th>\n",
       "      <td>2349</td>\n",
       "      <td>ham</td>\n",
       "      <td>Subject: hpl nom for january 9 , 2001\\r\\n( see...</td>\n",
       "      <td>0</td>\n",
       "    </tr>\n",
       "    <tr>\n",
       "      <th>2</th>\n",
       "      <td>3624</td>\n",
       "      <td>ham</td>\n",
       "      <td>Subject: neon retreat\\r\\nho ho ho , we ' re ar...</td>\n",
       "      <td>0</td>\n",
       "    </tr>\n",
       "    <tr>\n",
       "      <th>3</th>\n",
       "      <td>4685</td>\n",
       "      <td>spam</td>\n",
       "      <td>Subject: photoshop , windows , office . cheap ...</td>\n",
       "      <td>1</td>\n",
       "    </tr>\n",
       "    <tr>\n",
       "      <th>4</th>\n",
       "      <td>2030</td>\n",
       "      <td>ham</td>\n",
       "      <td>Subject: re : indian springs\\r\\nthis deal is t...</td>\n",
       "      <td>0</td>\n",
       "    </tr>\n",
       "  </tbody>\n",
       "</table>\n",
       "</div>"
      ],
      "text/plain": [
       "   Unnamed: 0 label                                               text  \\\n",
       "0         605   ham  Subject: enron methanol ; meter # : 988291\\r\\n...   \n",
       "1        2349   ham  Subject: hpl nom for january 9 , 2001\\r\\n( see...   \n",
       "2        3624   ham  Subject: neon retreat\\r\\nho ho ho , we ' re ar...   \n",
       "3        4685  spam  Subject: photoshop , windows , office . cheap ...   \n",
       "4        2030   ham  Subject: re : indian springs\\r\\nthis deal is t...   \n",
       "\n",
       "   label_num  \n",
       "0          0  \n",
       "1          0  \n",
       "2          0  \n",
       "3          1  \n",
       "4          0  "
      ]
     },
     "execution_count": 25,
     "metadata": {},
     "output_type": "execute_result"
    }
   ],
   "source": [
    "mail_data = pd.read_csv(\"spam_data.csv\", encoding=\"latin-1\")\n",
    "mail_data.head()"
   ]
  },
  {
   "cell_type": "code",
   "execution_count": 5,
   "id": "92f1322b",
   "metadata": {
    "execution": {
     "iopub.execute_input": "2023-04-16T07:06:48.370096Z",
     "iopub.status.busy": "2023-04-16T07:06:48.369808Z",
     "iopub.status.idle": "2023-04-16T07:06:48.408569Z",
     "shell.execute_reply": "2023-04-16T07:06:48.407432Z"
    },
    "id": "yX9gyWcSjK63",
    "outputId": "73d14314-b13f-46d9-c8be-984715c0dd9c",
    "papermill": {
     "duration": 0.051868,
     "end_time": "2023-04-16T07:06:48.410684",
     "exception": false,
     "start_time": "2023-04-16T07:06:48.358816",
     "status": "completed"
    },
    "tags": []
   },
   "outputs": [
    {
     "name": "stdout",
     "output_type": "stream",
     "text": [
      "(5171, 4)\n",
      "==========\n",
      "<class 'pandas.core.frame.DataFrame'>\n",
      "RangeIndex: 5171 entries, 0 to 5170\n",
      "Data columns (total 4 columns):\n",
      " #   Column      Non-Null Count  Dtype \n",
      "---  ------      --------------  ----- \n",
      " 0   Unnamed: 0  5171 non-null   int64 \n",
      " 1   label       5171 non-null   object\n",
      " 2   text        5171 non-null   object\n",
      " 3   label_num   5171 non-null   int64 \n",
      "dtypes: int64(2), object(2)\n",
      "memory usage: 161.7+ KB\n",
      "None\n",
      "==========\n",
      "        Unnamed: 0    label_num\n",
      "count  5171.000000  5171.000000\n",
      "mean   2585.000000     0.289886\n",
      "std    1492.883452     0.453753\n",
      "min       0.000000     0.000000\n",
      "25%    1292.500000     0.000000\n",
      "50%    2585.000000     0.000000\n",
      "75%    3877.500000     1.000000\n",
      "max    5170.000000     1.000000\n"
     ]
    }
   ],
   "source": [
    "print(mail_data.shape)\n",
    "print('==========')\n",
    "print(mail_data.info())\n",
    "print('==========')\n",
    "print(mail_data.describe())"
   ]
  },
  {
   "cell_type": "code",
   "execution_count": 26,
   "id": "3e188d5d",
   "metadata": {
    "execution": {
     "iopub.execute_input": "2023-04-16T07:06:48.432630Z",
     "iopub.status.busy": "2023-04-16T07:06:48.431555Z",
     "iopub.status.idle": "2023-04-16T07:06:48.449564Z",
     "shell.execute_reply": "2023-04-16T07:06:48.448132Z"
    },
    "id": "HamakjXhjg35",
    "outputId": "8395986c-2a38-40aa-ac0e-b818ee89ad6a",
    "papermill": {
     "duration": 0.030768,
     "end_time": "2023-04-16T07:06:48.451571",
     "exception": false,
     "start_time": "2023-04-16T07:06:48.420803",
     "status": "completed"
    },
    "tags": []
   },
   "outputs": [
    {
     "data": {
      "text/html": [
       "<div>\n",
       "<style scoped>\n",
       "    .dataframe tbody tr th:only-of-type {\n",
       "        vertical-align: middle;\n",
       "    }\n",
       "\n",
       "    .dataframe tbody tr th {\n",
       "        vertical-align: top;\n",
       "    }\n",
       "\n",
       "    .dataframe thead th {\n",
       "        text-align: right;\n",
       "    }\n",
       "</style>\n",
       "<table border=\"1\" class=\"dataframe\">\n",
       "  <thead>\n",
       "    <tr style=\"text-align: right;\">\n",
       "      <th></th>\n",
       "      <th>target</th>\n",
       "      <th>text</th>\n",
       "    </tr>\n",
       "  </thead>\n",
       "  <tbody>\n",
       "    <tr>\n",
       "      <th>0</th>\n",
       "      <td>0</td>\n",
       "      <td>Subject: enron methanol ; meter # : 988291\\r\\n...</td>\n",
       "    </tr>\n",
       "    <tr>\n",
       "      <th>1</th>\n",
       "      <td>0</td>\n",
       "      <td>Subject: hpl nom for january 9 , 2001\\r\\n( see...</td>\n",
       "    </tr>\n",
       "    <tr>\n",
       "      <th>2</th>\n",
       "      <td>0</td>\n",
       "      <td>Subject: neon retreat\\r\\nho ho ho , we ' re ar...</td>\n",
       "    </tr>\n",
       "    <tr>\n",
       "      <th>3</th>\n",
       "      <td>1</td>\n",
       "      <td>Subject: photoshop , windows , office . cheap ...</td>\n",
       "    </tr>\n",
       "    <tr>\n",
       "      <th>4</th>\n",
       "      <td>0</td>\n",
       "      <td>Subject: re : indian springs\\r\\nthis deal is t...</td>\n",
       "    </tr>\n",
       "  </tbody>\n",
       "</table>\n",
       "</div>"
      ],
      "text/plain": [
       "   target                                               text\n",
       "0       0  Subject: enron methanol ; meter # : 988291\\r\\n...\n",
       "1       0  Subject: hpl nom for january 9 , 2001\\r\\n( see...\n",
       "2       0  Subject: neon retreat\\r\\nho ho ho , we ' re ar...\n",
       "3       1  Subject: photoshop , windows , office . cheap ...\n",
       "4       0  Subject: re : indian springs\\r\\nthis deal is t..."
      ]
     },
     "execution_count": 26,
     "metadata": {},
     "output_type": "execute_result"
    }
   ],
   "source": [
    "#drop columns\n",
    "mail_data.drop(columns=['Unnamed: 0','label_num'],inplace=True)\n",
    "mail_data.rename(columns={'label':'target'},inplace=True) \n",
    "\n",
    "#drop duplicates\n",
    "mail_data = mail_data.drop_duplicates(keep='first') \n",
    "\n",
    "#1 hot\n",
    "encoder = LabelEncoder()\n",
    "mail_data['target'] = encoder.fit_transform(mail_data['target']) \n",
    "mail_data.head()"
   ]
  },
  {
   "cell_type": "code",
   "execution_count": 27,
   "id": "ea2a10ad",
   "metadata": {
    "execution": {
     "iopub.execute_input": "2023-04-16T07:06:48.474526Z",
     "iopub.status.busy": "2023-04-16T07:06:48.472931Z",
     "iopub.status.idle": "2023-04-16T07:06:48.485800Z",
     "shell.execute_reply": "2023-04-16T07:06:48.484695Z"
    },
    "id": "QIggQ4NNj4C0",
    "outputId": "6e658ddf-47ce-4c32-9526-4b9436232e3a",
    "papermill": {
     "duration": 0.02595,
     "end_time": "2023-04-16T07:06:48.487991",
     "exception": false,
     "start_time": "2023-04-16T07:06:48.462041",
     "status": "completed"
    },
    "tags": []
   },
   "outputs": [
    {
     "name": "stdout",
     "output_type": "stream",
     "text": [
      "target    0\n",
      "text      0\n",
      "dtype: int64\n",
      "Num duplicates: 0\n"
     ]
    },
    {
     "data": {
      "text/plain": [
       "(4993, 2)"
      ]
     },
     "execution_count": 27,
     "metadata": {},
     "output_type": "execute_result"
    }
   ],
   "source": [
    "print(f'{mail_data.isnull().sum()}\\nNum duplicates: {mail_data.duplicated().sum()}')\n",
    "mail_data.shape"
   ]
  },
  {
   "cell_type": "code",
   "execution_count": 28,
   "id": "5a0d2b1c",
   "metadata": {
    "execution": {
     "iopub.execute_input": "2023-04-16T07:06:48.510268Z",
     "iopub.status.busy": "2023-04-16T07:06:48.509349Z",
     "iopub.status.idle": "2023-04-16T07:06:48.648342Z",
     "shell.execute_reply": "2023-04-16T07:06:48.646936Z"
    },
    "id": "bkhoFIbFk3op",
    "outputId": "c11c0f10-c393-456a-e03f-76aca3e31a48",
    "papermill": {
     "duration": 0.154078,
     "end_time": "2023-04-16T07:06:48.652295",
     "exception": false,
     "start_time": "2023-04-16T07:06:48.498217",
     "status": "completed"
    },
    "tags": []
   },
   "outputs": [
    {
     "name": "stdout",
     "output_type": "stream",
     "text": [
      "0    3531\n",
      "1    1462\n",
      "Name: target, dtype: int64\n"
     ]
    },
    {
     "data": {
      "image/png": "[encoded data removed]",
      "text/plain": [
       "<Figure size 640x480 with 1 Axes>"
      ]
     },
     "metadata": {},
     "output_type": "display_data"
    }
   ],
   "source": [
    "print(mail_data['target'].value_counts())\n",
    "plt.pie(mail_data['target'].value_counts(), labels=['ham','spam'],autopct=\"%0.2f\")\n",
    "plt.show()"
   ]
  },
  {
   "cell_type": "code",
   "execution_count": 29,
   "id": "fed06c1a",
   "metadata": {
    "execution": {
     "iopub.execute_input": "2023-04-16T07:06:48.710046Z",
     "iopub.status.busy": "2023-04-16T07:06:48.709485Z",
     "iopub.status.idle": "2023-04-16T07:06:49.999021Z",
     "shell.execute_reply": "2023-04-16T07:06:49.998053Z"
    },
    "id": "hkLgcjXBllqh",
    "outputId": "11ea494d-98a9-49e1-ef90-07f31291baeb",
    "papermill": {
     "duration": 1.320927,
     "end_time": "2023-04-16T07:06:50.001348",
     "exception": false,
     "start_time": "2023-04-16T07:06:48.680421",
     "status": "completed"
    },
    "tags": []
   },
   "outputs": [
    {
     "data": {
      "text/html": [
       "<div>\n",
       "<style scoped>\n",
       "    .dataframe tbody tr th:only-of-type {\n",
       "        vertical-align: middle;\n",
       "    }\n",
       "\n",
       "    .dataframe tbody tr th {\n",
       "        vertical-align: top;\n",
       "    }\n",
       "\n",
       "    .dataframe thead th {\n",
       "        text-align: right;\n",
       "    }\n",
       "</style>\n",
       "<table border=\"1\" class=\"dataframe\">\n",
       "  <thead>\n",
       "    <tr style=\"text-align: right;\">\n",
       "      <th></th>\n",
       "      <th>target</th>\n",
       "      <th>text</th>\n",
       "      <th>num_characters</th>\n",
       "      <th>num_words</th>\n",
       "      <th>num_sentences</th>\n",
       "    </tr>\n",
       "  </thead>\n",
       "  <tbody>\n",
       "    <tr>\n",
       "      <th>0</th>\n",
       "      <td>0</td>\n",
       "      <td>Subject: enron methanol ; meter # : 988291\\r\\n...</td>\n",
       "      <td>327</td>\n",
       "      <td>68</td>\n",
       "      <td>3</td>\n",
       "    </tr>\n",
       "    <tr>\n",
       "      <th>1</th>\n",
       "      <td>0</td>\n",
       "      <td>Subject: hpl nom for january 9 , 2001\\r\\n( see...</td>\n",
       "      <td>97</td>\n",
       "      <td>24</td>\n",
       "      <td>3</td>\n",
       "    </tr>\n",
       "    <tr>\n",
       "      <th>2</th>\n",
       "      <td>0</td>\n",
       "      <td>Subject: neon retreat\\r\\nho ho ho , we ' re ar...</td>\n",
       "      <td>2524</td>\n",
       "      <td>551</td>\n",
       "      <td>24</td>\n",
       "    </tr>\n",
       "    <tr>\n",
       "      <th>3</th>\n",
       "      <td>1</td>\n",
       "      <td>Subject: photoshop , windows , office . cheap ...</td>\n",
       "      <td>414</td>\n",
       "      <td>49</td>\n",
       "      <td>3</td>\n",
       "    </tr>\n",
       "    <tr>\n",
       "      <th>4</th>\n",
       "      <td>0</td>\n",
       "      <td>Subject: re : indian springs\\r\\nthis deal is t...</td>\n",
       "      <td>336</td>\n",
       "      <td>71</td>\n",
       "      <td>3</td>\n",
       "    </tr>\n",
       "  </tbody>\n",
       "</table>\n",
       "</div>"
      ],
      "text/plain": [
       "   target                                               text  num_characters  \\\n",
       "0       0  Subject: enron methanol ; meter # : 988291\\r\\n...             327   \n",
       "1       0  Subject: hpl nom for january 9 , 2001\\r\\n( see...              97   \n",
       "2       0  Subject: neon retreat\\r\\nho ho ho , we ' re ar...            2524   \n",
       "3       1  Subject: photoshop , windows , office . cheap ...             414   \n",
       "4       0  Subject: re : indian springs\\r\\nthis deal is t...             336   \n",
       "\n",
       "   num_words  num_sentences  \n",
       "0         68              3  \n",
       "1         24              3  \n",
       "2        551             24  \n",
       "3         49              3  \n",
       "4         71              3  "
      ]
     },
     "execution_count": 29,
     "metadata": {},
     "output_type": "execute_result"
    }
   ],
   "source": [
    "mail_data['num_characters'] = mail_data['text'].apply(len)\n",
    "mail_data['num_words'] = mail_data['text'].apply(lambda x:len(nltk.word_tokenize(x)))\n",
    "mail_data['num_sentences'] = mail_data['text'].apply(lambda x:len(nltk.sent_tokenize(x)))\n",
    "mail_data.head()"
   ]
  },
  {
   "cell_type": "code",
   "execution_count": 10,
   "id": "40620fb8",
   "metadata": {
    "execution": {
     "iopub.execute_input": "2023-04-16T07:06:50.025973Z",
     "iopub.status.busy": "2023-04-16T07:06:50.024425Z",
     "iopub.status.idle": "2023-04-16T07:06:50.048099Z",
     "shell.execute_reply": "2023-04-16T07:06:50.047198Z"
    },
    "id": "FIuAQs77l-kf",
    "outputId": "5bc772c0-72eb-4dd2-a81f-d4ebd142d9cc",
    "papermill": {
     "duration": 0.037957,
     "end_time": "2023-04-16T07:06:50.050287",
     "exception": false,
     "start_time": "2023-04-16T07:06:50.012330",
     "status": "completed"
    },
    "tags": []
   },
   "outputs": [
    {
     "data": {
      "text/html": [
       "<div>\n",
       "<style scoped>\n",
       "    .dataframe tbody tr th:only-of-type {\n",
       "        vertical-align: middle;\n",
       "    }\n",
       "\n",
       "    .dataframe tbody tr th {\n",
       "        vertical-align: top;\n",
       "    }\n",
       "\n",
       "    .dataframe thead th {\n",
       "        text-align: right;\n",
       "    }\n",
       "</style>\n",
       "<table border=\"1\" class=\"dataframe\">\n",
       "  <thead>\n",
       "    <tr style=\"text-align: right;\">\n",
       "      <th></th>\n",
       "      <th>num_characters</th>\n",
       "      <th>num_words</th>\n",
       "      <th>num_sentences</th>\n",
       "    </tr>\n",
       "  </thead>\n",
       "  <tbody>\n",
       "    <tr>\n",
       "      <th>count</th>\n",
       "      <td>3531.000000</td>\n",
       "      <td>3531.000000</td>\n",
       "      <td>3531.000000</td>\n",
       "    </tr>\n",
       "    <tr>\n",
       "      <th>mean</th>\n",
       "      <td>994.939394</td>\n",
       "      <td>230.516001</td>\n",
       "      <td>11.662419</td>\n",
       "    </tr>\n",
       "    <tr>\n",
       "      <th>std</th>\n",
       "      <td>1402.785831</td>\n",
       "      <td>337.018933</td>\n",
       "      <td>25.330035</td>\n",
       "    </tr>\n",
       "    <tr>\n",
       "      <th>min</th>\n",
       "      <td>18.000000</td>\n",
       "      <td>3.000000</td>\n",
       "      <td>1.000000</td>\n",
       "    </tr>\n",
       "    <tr>\n",
       "      <th>25%</th>\n",
       "      <td>241.000000</td>\n",
       "      <td>53.000000</td>\n",
       "      <td>4.000000</td>\n",
       "    </tr>\n",
       "    <tr>\n",
       "      <th>50%</th>\n",
       "      <td>538.000000</td>\n",
       "      <td>128.000000</td>\n",
       "      <td>7.000000</td>\n",
       "    </tr>\n",
       "    <tr>\n",
       "      <th>75%</th>\n",
       "      <td>1253.500000</td>\n",
       "      <td>298.500000</td>\n",
       "      <td>13.500000</td>\n",
       "    </tr>\n",
       "    <tr>\n",
       "      <th>max</th>\n",
       "      <td>32258.000000</td>\n",
       "      <td>8863.000000</td>\n",
       "      <td>1204.000000</td>\n",
       "    </tr>\n",
       "  </tbody>\n",
       "</table>\n",
       "</div>"
      ],
      "text/plain": [
       "       num_characters    num_words  num_sentences\n",
       "count     3531.000000  3531.000000    3531.000000\n",
       "mean       994.939394   230.516001      11.662419\n",
       "std       1402.785831   337.018933      25.330035\n",
       "min         18.000000     3.000000       1.000000\n",
       "25%        241.000000    53.000000       4.000000\n",
       "50%        538.000000   128.000000       7.000000\n",
       "75%       1253.500000   298.500000      13.500000\n",
       "max      32258.000000  8863.000000    1204.000000"
      ]
     },
     "execution_count": 10,
     "metadata": {},
     "output_type": "execute_result"
    }
   ],
   "source": [
    "# ham\n",
    "mail_data[mail_data['target'] == 0][['num_characters','num_words','num_sentences']].describe()"
   ]
  },
  {
   "cell_type": "code",
   "execution_count": 11,
   "id": "6495f7fe",
   "metadata": {
    "execution": {
     "iopub.execute_input": "2023-04-16T07:06:50.073475Z",
     "iopub.status.busy": "2023-04-16T07:06:50.073164Z",
     "iopub.status.idle": "2023-04-16T07:06:50.091635Z",
     "shell.execute_reply": "2023-04-16T07:06:50.090538Z"
    },
    "id": "j5YtUzjUmON8",
    "outputId": "a8794134-b91e-4a34-bae7-8cab8088f711",
    "papermill": {
     "duration": 0.03269,
     "end_time": "2023-04-16T07:06:50.094103",
     "exception": false,
     "start_time": "2023-04-16T07:06:50.061413",
     "status": "completed"
    },
    "tags": []
   },
   "outputs": [
    {
     "data": {
      "text/html": [
       "<div>\n",
       "<style scoped>\n",
       "    .dataframe tbody tr th:only-of-type {\n",
       "        vertical-align: middle;\n",
       "    }\n",
       "\n",
       "    .dataframe tbody tr th {\n",
       "        vertical-align: top;\n",
       "    }\n",
       "\n",
       "    .dataframe thead th {\n",
       "        text-align: right;\n",
       "    }\n",
       "</style>\n",
       "<table border=\"1\" class=\"dataframe\">\n",
       "  <thead>\n",
       "    <tr style=\"text-align: right;\">\n",
       "      <th></th>\n",
       "      <th>num_characters</th>\n",
       "      <th>num_words</th>\n",
       "      <th>num_sentences</th>\n",
       "    </tr>\n",
       "  </thead>\n",
       "  <tbody>\n",
       "    <tr>\n",
       "      <th>count</th>\n",
       "      <td>1462.000000</td>\n",
       "      <td>1462.000000</td>\n",
       "      <td>1462.000000</td>\n",
       "    </tr>\n",
       "    <tr>\n",
       "      <th>mean</th>\n",
       "      <td>1249.326265</td>\n",
       "      <td>241.315321</td>\n",
       "      <td>17.551984</td>\n",
       "    </tr>\n",
       "    <tr>\n",
       "      <th>std</th>\n",
       "      <td>1840.112883</td>\n",
       "      <td>349.439381</td>\n",
       "      <td>33.111447</td>\n",
       "    </tr>\n",
       "    <tr>\n",
       "      <th>min</th>\n",
       "      <td>11.000000</td>\n",
       "      <td>2.000000</td>\n",
       "      <td>1.000000</td>\n",
       "    </tr>\n",
       "    <tr>\n",
       "      <th>25%</th>\n",
       "      <td>304.250000</td>\n",
       "      <td>60.000000</td>\n",
       "      <td>4.000000</td>\n",
       "    </tr>\n",
       "    <tr>\n",
       "      <th>50%</th>\n",
       "      <td>589.000000</td>\n",
       "      <td>119.500000</td>\n",
       "      <td>9.000000</td>\n",
       "    </tr>\n",
       "    <tr>\n",
       "      <th>75%</th>\n",
       "      <td>1305.000000</td>\n",
       "      <td>252.750000</td>\n",
       "      <td>19.000000</td>\n",
       "    </tr>\n",
       "    <tr>\n",
       "      <th>max</th>\n",
       "      <td>22073.000000</td>\n",
       "      <td>3963.000000</td>\n",
       "      <td>693.000000</td>\n",
       "    </tr>\n",
       "  </tbody>\n",
       "</table>\n",
       "</div>"
      ],
      "text/plain": [
       "       num_characters    num_words  num_sentences\n",
       "count     1462.000000  1462.000000    1462.000000\n",
       "mean      1249.326265   241.315321      17.551984\n",
       "std       1840.112883   349.439381      33.111447\n",
       "min         11.000000     2.000000       1.000000\n",
       "25%        304.250000    60.000000       4.000000\n",
       "50%        589.000000   119.500000       9.000000\n",
       "75%       1305.000000   252.750000      19.000000\n",
       "max      22073.000000  3963.000000     693.000000"
      ]
     },
     "execution_count": 11,
     "metadata": {},
     "output_type": "execute_result"
    }
   ],
   "source": [
    "#spam\n",
    "mail_data[mail_data['target'] == 1][['num_characters','num_words','num_sentences']].describe()"
   ]
  },
  {
   "cell_type": "code",
   "execution_count": 12,
   "id": "38999aca",
   "metadata": {
    "execution": {
     "iopub.execute_input": "2023-04-16T07:06:50.117607Z",
     "iopub.status.busy": "2023-04-16T07:06:50.116907Z",
     "iopub.status.idle": "2023-04-16T07:06:55.831905Z",
     "shell.execute_reply": "2023-04-16T07:06:55.830853Z"
    },
    "id": "1c-35PB6oy7M",
    "outputId": "735559ea-2951-457a-91da-05f074946073",
    "papermill": {
     "duration": 5.729205,
     "end_time": "2023-04-16T07:06:55.834255",
     "exception": false,
     "start_time": "2023-04-16T07:06:50.105050",
     "status": "completed"
    },
    "tags": []
   },
   "outputs": [
    {
     "data": {
      "text/plain": [
       "<seaborn.axisgrid.PairGrid at 0x29c5202a090>"
      ]
     },
     "execution_count": 12,
     "metadata": {},
     "output_type": "execute_result"
    },
    {
     "data": {
      "image/png": "[encoded data removed]",
      "text/plain": [
       "<Figure size 808.875x750 with 12 Axes>"
      ]
     },
     "metadata": {},
     "output_type": "display_data"
    }
   ],
   "source": [
    "sns.pairplot(mail_data,hue='target')"
   ]
  },
  {
   "cell_type": "code",
   "execution_count": 13,
   "id": "daa31ab6",
   "metadata": {
    "execution": {
     "iopub.execute_input": "2023-04-16T07:06:55.861814Z",
     "iopub.status.busy": "2023-04-16T07:06:55.861435Z",
     "iopub.status.idle": "2023-04-16T07:06:56.170942Z",
     "shell.execute_reply": "2023-04-16T07:06:56.169856Z"
    },
    "id": "zdFWNShDpxLO",
    "outputId": "4dc7e6c9-856e-4816-b480-2e7db968d8b2",
    "papermill": {
     "duration": 0.325496,
     "end_time": "2023-04-16T07:06:56.173254",
     "exception": false,
     "start_time": "2023-04-16T07:06:55.847758",
     "status": "completed"
    },
    "tags": []
   },
   "outputs": [
    {
     "name": "stderr",
     "output_type": "stream",
     "text": [
      "C:\\Users\\Himasha\\AppData\\Local\\Temp\\ipykernel_7964\\1398492088.py:1: FutureWarning: The default value of numeric_only in DataFrame.corr is deprecated. In a future version, it will default to False. Select only valid columns or specify the value of numeric_only to silence this warning.\n",
      "  sns.heatmap(data=mail_data.corr(),\n"
     ]
    },
    {
     "data": {
      "image/png": "[encoded data removed]",
      "text/plain": [
       "<Figure size 800x600 with 2 Axes>"
      ]
     },
     "metadata": {},
     "output_type": "display_data"
    }
   ],
   "source": [
    "sns.heatmap(data=mail_data.corr(),\n",
    "            annot=True,\n",
    "            cmap=\"coolwarm\",\n",
    "            center=0,\n",
    "            ax=plt.subplots(figsize=(8,6))[1]);"
   ]
  },
  {
   "attachments": {},
   "cell_type": "markdown",
   "id": "1fb7e23e",
   "metadata": {
    "id": "nnzq3a-6qFWE",
    "papermill": {
     "duration": 0.014487,
     "end_time": "2023-04-16T07:06:56.201367",
     "exception": false,
     "start_time": "2023-04-16T07:06:56.186880",
     "status": "completed"
    },
    "tags": []
   },
   "source": [
    "# Data preprocessing\n",
    "* Lower case\n",
    "* Tokenization\n",
    "* Removing special characters\n",
    "* Removing stop words and punctuation\n",
    "* Stemming"
   ]
  },
  {
   "cell_type": "code",
   "execution_count": 30,
   "id": "63bd0c0e",
   "metadata": {
    "execution": {
     "iopub.execute_input": "2023-04-16T07:06:56.229797Z",
     "iopub.status.busy": "2023-04-16T07:06:56.229231Z",
     "iopub.status.idle": "2023-04-16T07:06:56.235848Z",
     "shell.execute_reply": "2023-04-16T07:06:56.235206Z"
    },
    "id": "N4_WG_hwqC9p",
    "papermill": {
     "duration": 0.022753,
     "end_time": "2023-04-16T07:06:56.237755",
     "exception": false,
     "start_time": "2023-04-16T07:06:56.215002",
     "status": "completed"
    },
    "tags": []
   },
   "outputs": [],
   "source": [
    "def transform_text(text):\n",
    "    # Convert the text to lowercase and tokenize it\n",
    "    tokens = nltk.word_tokenize(text.lower())\n",
    "    \n",
    "    # Remove non-alphanumeric tokens (%^# )\n",
    "    tokens = [t for t in tokens if t.isalnum()]\n",
    "    \n",
    "    # Remove stopwords and punctuation (I, how, u, are, is)\n",
    "    stopwords_set = set(stopwords.words('english'))\n",
    "    punctuation_set = set(string.punctuation)\n",
    "    tokens = [t for t in tokens if t not in stopwords_set and t not in punctuation_set]\n",
    "    \n",
    "    # Stemming the remaining tokens using PorterStemmer (loving=love)\n",
    "    ps = PorterStemmer()\n",
    "    tokens = [ps.stem(t) for t in tokens]\n",
    "    \n",
    "    # Join the tokens back into a string and return it\n",
    "    return \" \".join(tokens)"
   ]
  },
  {
   "cell_type": "code",
   "execution_count": 31,
   "id": "9aa5f071",
   "metadata": {
    "execution": {
     "iopub.execute_input": "2023-04-16T07:06:56.266092Z",
     "iopub.status.busy": "2023-04-16T07:06:56.265226Z",
     "iopub.status.idle": "2023-04-16T07:06:56.274305Z",
     "shell.execute_reply": "2023-04-16T07:06:56.272499Z"
    },
    "id": "9oeHbWD8q6im",
    "outputId": "0c441b0b-8f34-450b-f834-c6477e44d61e",
    "papermill": {
     "duration": 0.025283,
     "end_time": "2023-04-16T07:06:56.276354",
     "exception": false,
     "start_time": "2023-04-16T07:06:56.251071",
     "status": "completed"
    },
    "tags": []
   },
   "outputs": [
    {
     "name": "stdout",
     "output_type": "stream",
     "text": [
      "Subject: vocable % rnd - word asceticism\n",
      "vcsc - brand new stock for your attention\n",
      "vocalscape inc - the stock symbol is : vcsc\n",
      "vcsc will be our top stock pick for the month of april - stock expected to\n",
      "bounce to 12 cents level\n",
      "the stock hit its all time low and will bounce back\n",
      "stock is going to explode in next 5 days - watch it soar\n",
      "watch the stock go crazy this and next week .\n",
      "breaking news - vocalscape inc . announces agreement to resell mix network\n",
      "services\n",
      "current price : $ 0 . 025\n",
      "we expect projected speculative price in next 5 days : $ 0 . 12\n",
      "we expect projected speculative price in next 15 days : $ 0 . 15\n",
      "vocalscape networks inc . is building a company that ' s revolutionizing the\n",
      "telecommunications industry with the most affordable phone systems , hardware ,\n",
      "online software , and rates in canada and the us . vocalscape , a company with\n",
      "global reach , is receiving international attention for the development of voice\n",
      "over ip ( voip ) application solutions , including the award - winning eyefontm , a\n",
      "softphone for real - time pc - to - phone . we are an advanced implementer of pbx\n",
      "systems for companies , call centers , itsps and service providers .\n",
      "vocalscape has created software and interactive solutions revolving around\n",
      "global communications and data voice convergence . companies use vocalscape for\n",
      "voice over internet protocol applications like ip pbxs , softswitches , pc 2 phone\n",
      "and web 2 phone , providing real - time human interaction and information delivery\n",
      "over the internet . through vocalscape ' s solutions , businesses can offer a\n",
      "quality voice service to anywhere in the world at rates that are significantly\n",
      "lower than current long distance charges . we develop software to run voip\n",
      "networks , and sell , install and service our own branded voip gateways and\n",
      "gatekeeper control software . we also license our software to customers who want\n",
      "to brand their own voip solutions .\n",
      "vocalscape is committed to making great technology ; challenging the status quo ,\n",
      "and building a 21 st century company that changes the way businesses communicate\n",
      "and interact through the internet .\n",
      "current price : $ 0 . 025\n",
      "we expect projected speculative price in next 5 days : $ 0 . 12\n",
      "we expect projected speculative price in next 15 days : $ 0 . 15\n",
      "breaking news - vocalscape inc . announces agreement to resell mix network\n",
      "services\n",
      "- - - - - - - - - -\n",
      "katonah , n . y . , / prnewswire - firstcall via comtex / - - vocalscape , inc . pink : vcsc ) ,\n",
      "an emerging leader in the development of voice over internet protocol ( voip )\n",
      "telephony solutions , announced today it has entered into a sales agent agreement\n",
      "with mix networks , inc . a voip enhanced telephony service provider .\n",
      "this agreement provides vocalscape ' s turnkey calling card customers with access\n",
      "to mix networks services including north american dids ( phone numbers ) and\n",
      "domestic long distance termination . vocalscape will also be able to supply their\n",
      "clients with enhanced voip products including pre - paid calling through mix\n",
      "networks north american network .\n",
      "we are excited to help companies launch voip business models using our solution\n",
      "with the whole picture from the software to the network needed to route the\n",
      "calls . mix networks gives us the ability to offer wholesale monthly flat rate\n",
      "plans and dids to our clients that allow for us to build business models like\n",
      "popular voip companies such as vonage and packet 8 , says ryan gibson , vp\n",
      "vocalscape networks\n",
      "some legal words before you continue :\n",
      "information within this email contains forward looking statements within the\n",
      "meaning of section 27 a of the securities act of 1933 and section 21 b of the\n",
      "securities exchange act of 1934 . any statements that express or involve\n",
      "discussions with respect to predictions , goals , expectations , beliefs , plans ,\n",
      "projections , objectives , assumptions or future events or performance are not\n",
      "statements of historical fact and may be forward looking statements . forward\n",
      "looking statements are based on expectations , estimates and projections at the\n",
      "time the statements are made that involve a number of risks and uncertainties\n",
      "which could cause actual results or events to differ materially from those\n",
      "presently anticipated . forward looking statements in this action may be\n",
      "identified through the use of words such as : projects , foresee , expects ,\n",
      "estimates , believes , understands will , part of : anticipates , or that\n",
      "by statements indicating certain actions may , could , or might occur . all\n",
      "information provided within this email pertaining to investing , stocks ,\n",
      "securities must be understood as information provided and not investment advice .\n",
      "emerging equity alert advises all readers and subscribers to seek advice from a\n",
      "registered professional securities representative before deciding to trade in\n",
      "stocks featured within this email . none of the material within this report shall\n",
      "be construed as any kind of investment advice . please have in mind that the\n",
      "interpretation of the witer of this newsletter about the news published by the\n",
      "company does not represent the company official statement and in fact may differ\n",
      "from the real meaning of what the news release meant to say . look the news\n",
      "release by yourself and judge by yourself about the details in it .\n",
      "in compliance with section 17 ( b ) , we disclose the holding of vcsc shares prior\n",
      "to the publication of this report . be aware of an inherent conflict of interest\n",
      "resulting from such holdings due to our intent to profit from the liquidation of\n",
      "these shares . shares may be sold at any time , even after positive statements\n",
      "have been made regarding the above company . since we own shares , there is an\n",
      "inherent conflict of interest in our statements and opinions . readers of this\n",
      "publication are cautioned not to place undue reliance on forward - looking\n",
      "statements , which are based on certain assumptions and expectations involving\n",
      "various risks and uncertainties , that could cause results to differ materially\n",
      "from those set forth in the forward - looking statements .\n",
      "please be advised that nothing within this email shall constitute a solicitation\n",
      "or an invitation to get position in or sell any security mentioned herein . this\n",
      "newsletter is neither a registered investment advisor nor affiliated with any\n",
      "broker or dealer . this newsletter was paid $ 49000 from third party to send this\n",
      "report . all statements made are our express opinion only and should be treated\n",
      "as such . we may own , take position and sell any securities mentioned at any\n",
      "time . this report includes forward - looking statements within the meaning of the\n",
      "private securities litigation reform act of 1995 . these statements may include\n",
      "terms as projected speculative price expect , believe , may , will ,\n",
      "soar move , undervalued and intend or similar terms .\n",
      "\n",
      "subject vocabl rnd word ascetic vcsc brand new stock attent vocalscap inc stock symbol vcsc vcsc top stock pick month april stock expect bounc 12 cent level stock hit time low bounc back stock go explod next 5 day watch soar watch stock go crazi next week break news vocalscap inc announc agreement resel mix network servic current price 0 025 expect project specul price next 5 day 0 12 expect project specul price next 15 day 0 15 vocalscap network inc build compani revolution telecommun industri afford phone system hardwar onlin softwar rate canada us vocalscap compani global reach receiv intern attent develop voic ip voip applic solut includ award win eyefontm softphon real time pc phone advanc implement pbx system compani call center itsp servic provid vocalscap creat softwar interact solut revolv around global commun data voic converg compani use vocalscap voic internet protocol applic like ip pbx softswitch pc 2 phone web 2 phone provid real time human interact inform deliveri internet vocalscap solut busi offer qualiti voic servic anywher world rate significantli lower current long distanc charg develop softwar run voip network sell instal servic brand voip gateway gatekeep control softwar also licens softwar custom want brand voip solut vocalscap commit make great technolog challeng statu quo build 21 st centuri compani chang way busi commun interact internet current price 0 025 expect project specul price next 5 day 0 12 expect project specul price next 15 day 0 15 break news vocalscap inc announc agreement resel mix network servic katonah n prnewswir firstcal via comtex vocalscap inc pink vcsc emerg leader develop voic internet protocol voip telephoni solut announc today enter sale agent agreement mix network inc voip enhanc telephoni servic provid agreement provid vocalscap turnkey call card custom access mix network servic includ north american did phone number domest long distanc termin vocalscap also abl suppli client enhanc voip product includ pre paid call mix network north american network excit help compani launch voip busi model use solut whole pictur softwar network need rout call mix network give us abil offer wholesal monthli flat rate plan did client allow us build busi model like popular voip compani vonag packet 8 say ryan gibson vp vocalscap network legal word continu inform within email contain forward look statement within mean section 27 secur act 1933 section 21 b secur exchang act 1934 statement express involv discuss respect predict goal expect belief plan project object assumpt futur event perform statement histor fact may forward look statement forward look statement base expect estim project time statement made involv number risk uncertainti could caus actual result event differ materi present anticip forward look statement action may identifi use word project forese expect estim believ understand part anticip statement indic certain action may could might occur inform provid within email pertain invest stock secur must understood inform provid invest advic emerg equiti alert advis reader subscrib seek advic regist profession secur repres decid trade stock featur within email none materi within report shall constru kind invest advic pleas mind interpret witer newslett news publish compani repres compani offici statement fact may differ real mean news releas meant say look news releas judg detail complianc section 17 b disclos hold vcsc share prior public report awar inher conflict interest result hold due intent profit liquid share share may sold time even posit statement made regard compani sinc share inher conflict interest statement opinion reader public caution place undu relianc forward look statement base certain assumpt expect involv variou risk uncertainti could caus result differ materi set forth forward look statement pleas advis noth within email shall constitut solicit invit get posit sell secur mention herein newslett neither regist invest advisor affili broker dealer newslett paid 49000 third parti send report statement made express opinion treat may take posit sell secur mention time report includ forward look statement within mean privat secur litig reform act 1995 statement may includ term project specul price expect believ may soar move undervalu intend similar term\n"
     ]
    }
   ],
   "source": [
    "print(f\"{mail_data['text'][10]}\\n{transform_text(mail_data['text'][10])}\")"
   ]
  },
  {
   "attachments": {},
   "cell_type": "markdown",
   "id": "e1fa6c52",
   "metadata": {},
   "source": [
    "* #### Remove numbers "
   ]
  },
  {
   "cell_type": "code",
   "execution_count": 32,
   "id": "72e1e43b",
   "metadata": {},
   "outputs": [
    {
     "name": "stderr",
     "output_type": "stream",
     "text": [
      "C:\\Users\\Himasha\\AppData\\Local\\Temp\\ipykernel_7964\\748716051.py:1: FutureWarning: The default value of regex will change from True to False in a future version.\n",
      "  mail_data = mail_data.apply(lambda x: x.str.replace('\\d+', '') if x.dtype == \"object\" else x)\n"
     ]
    }
   ],
   "source": [
    "mail_data = mail_data.apply(lambda x: x.str.replace('\\d+', '') if x.dtype == \"object\" else x)"
   ]
  },
  {
   "cell_type": "code",
   "execution_count": 33,
   "id": "92204df3",
   "metadata": {
    "execution": {
     "iopub.execute_input": "2023-04-16T07:06:56.304724Z",
     "iopub.status.busy": "2023-04-16T07:06:56.304459Z",
     "iopub.status.idle": "2023-04-16T07:06:59.462848Z",
     "shell.execute_reply": "2023-04-16T07:06:59.461596Z"
    },
    "id": "nWbJ5aTuq7rJ",
    "outputId": "7eb55e7f-32bd-44d6-fe29-cf12c601fb41",
    "papermill": {
     "duration": 3.175209,
     "end_time": "2023-04-16T07:06:59.465507",
     "exception": false,
     "start_time": "2023-04-16T07:06:56.290298",
     "status": "completed"
    },
    "tags": []
   },
   "outputs": [
    {
     "data": {
      "text/html": [
       "<div>\n",
       "<style scoped>\n",
       "    .dataframe tbody tr th:only-of-type {\n",
       "        vertical-align: middle;\n",
       "    }\n",
       "\n",
       "    .dataframe tbody tr th {\n",
       "        vertical-align: top;\n",
       "    }\n",
       "\n",
       "    .dataframe thead th {\n",
       "        text-align: right;\n",
       "    }\n",
       "</style>\n",
       "<table border=\"1\" class=\"dataframe\">\n",
       "  <thead>\n",
       "    <tr style=\"text-align: right;\">\n",
       "      <th></th>\n",
       "      <th>target</th>\n",
       "      <th>text</th>\n",
       "      <th>num_characters</th>\n",
       "      <th>num_words</th>\n",
       "      <th>num_sentences</th>\n",
       "      <th>transformed_text</th>\n",
       "    </tr>\n",
       "  </thead>\n",
       "  <tbody>\n",
       "    <tr>\n",
       "      <th>0</th>\n",
       "      <td>0</td>\n",
       "      <td>Subject: enron methanol ; meter # : \\r\\nthis i...</td>\n",
       "      <td>327</td>\n",
       "      <td>68</td>\n",
       "      <td>3</td>\n",
       "      <td>subject enron methanol meter follow note gave ...</td>\n",
       "    </tr>\n",
       "    <tr>\n",
       "      <th>1</th>\n",
       "      <td>0</td>\n",
       "      <td>Subject: hpl nom for january  , \\r\\n( see atta...</td>\n",
       "      <td>97</td>\n",
       "      <td>24</td>\n",
       "      <td>3</td>\n",
       "      <td>subject hpl nom januari see attach file hplnol...</td>\n",
       "    </tr>\n",
       "    <tr>\n",
       "      <th>2</th>\n",
       "      <td>0</td>\n",
       "      <td>Subject: neon retreat\\r\\nho ho ho , we ' re ar...</td>\n",
       "      <td>2524</td>\n",
       "      <td>551</td>\n",
       "      <td>24</td>\n",
       "      <td>subject neon retreat ho ho ho around wonder ti...</td>\n",
       "    </tr>\n",
       "    <tr>\n",
       "      <th>3</th>\n",
       "      <td>1</td>\n",
       "      <td>Subject: photoshop , windows , office . cheap ...</td>\n",
       "      <td>414</td>\n",
       "      <td>49</td>\n",
       "      <td>3</td>\n",
       "      <td>subject photoshop window offic cheap main tren...</td>\n",
       "    </tr>\n",
       "    <tr>\n",
       "      <th>4</th>\n",
       "      <td>0</td>\n",
       "      <td>Subject: re : indian springs\\r\\nthis deal is t...</td>\n",
       "      <td>336</td>\n",
       "      <td>71</td>\n",
       "      <td>3</td>\n",
       "      <td>subject indian spring deal book teco pvr reven...</td>\n",
       "    </tr>\n",
       "  </tbody>\n",
       "</table>\n",
       "</div>"
      ],
      "text/plain": [
       "   target                                               text  num_characters  \\\n",
       "0       0  Subject: enron methanol ; meter # : \\r\\nthis i...             327   \n",
       "1       0  Subject: hpl nom for january  , \\r\\n( see atta...              97   \n",
       "2       0  Subject: neon retreat\\r\\nho ho ho , we ' re ar...            2524   \n",
       "3       1  Subject: photoshop , windows , office . cheap ...             414   \n",
       "4       0  Subject: re : indian springs\\r\\nthis deal is t...             336   \n",
       "\n",
       "   num_words  num_sentences                                   transformed_text  \n",
       "0         68              3  subject enron methanol meter follow note gave ...  \n",
       "1         24              3  subject hpl nom januari see attach file hplnol...  \n",
       "2        551             24  subject neon retreat ho ho ho around wonder ti...  \n",
       "3         49              3  subject photoshop window offic cheap main tren...  \n",
       "4         71              3  subject indian spring deal book teco pvr reven...  "
      ]
     },
     "execution_count": 33,
     "metadata": {},
     "output_type": "execute_result"
    }
   ],
   "source": [
    "mail_data['transformed_text'] = mail_data['text'].apply(transform_text)\n",
    "mail_data.head()"
   ]
  },
  {
   "attachments": {},
   "cell_type": "markdown",
   "id": "9dea0c3a",
   "metadata": {},
   "source": [
    "* #### Removal of Frequent words"
   ]
  },
  {
   "cell_type": "code",
   "execution_count": 34,
   "id": "4f17e336",
   "metadata": {},
   "outputs": [
    {
     "data": {
      "text/plain": [
       "[('ect', 13701),\n",
       " ('subject', 7832),\n",
       " ('hou', 7182),\n",
       " ('enron', 6442),\n",
       " ('com', 3702),\n",
       " ('deal', 3587),\n",
       " ('pleas', 3178),\n",
       " ('ga', 2961),\n",
       " ('meter', 2712),\n",
       " ('cc', 2336)]"
      ]
     },
     "execution_count": 34,
     "metadata": {},
     "output_type": "execute_result"
    }
   ],
   "source": [
    "from collections import Counter\n",
    "cnt = Counter()\n",
    "for text in mail_data[\"transformed_text\"].values:\n",
    "    for word in text.split():\n",
    "        cnt[word] += 1\n",
    "        \n",
    "cnt.most_common(10)"
   ]
  },
  {
   "cell_type": "code",
   "execution_count": 35,
   "id": "5dbeb546",
   "metadata": {},
   "outputs": [
    {
     "data": {
      "text/html": [
       "<div>\n",
       "<style scoped>\n",
       "    .dataframe tbody tr th:only-of-type {\n",
       "        vertical-align: middle;\n",
       "    }\n",
       "\n",
       "    .dataframe tbody tr th {\n",
       "        vertical-align: top;\n",
       "    }\n",
       "\n",
       "    .dataframe thead th {\n",
       "        text-align: right;\n",
       "    }\n",
       "</style>\n",
       "<table border=\"1\" class=\"dataframe\">\n",
       "  <thead>\n",
       "    <tr style=\"text-align: right;\">\n",
       "      <th></th>\n",
       "      <th>target</th>\n",
       "      <th>text</th>\n",
       "      <th>num_characters</th>\n",
       "      <th>num_words</th>\n",
       "      <th>num_sentences</th>\n",
       "      <th>transformed_text</th>\n",
       "      <th>text_wo_stopfreq</th>\n",
       "    </tr>\n",
       "  </thead>\n",
       "  <tbody>\n",
       "    <tr>\n",
       "      <th>0</th>\n",
       "      <td>0</td>\n",
       "      <td>Subject: enron methanol ; meter # : \\r\\nthis i...</td>\n",
       "      <td>327</td>\n",
       "      <td>68</td>\n",
       "      <td>3</td>\n",
       "      <td>subject enron methanol meter follow note gave ...</td>\n",
       "      <td>methanol follow note gave monday preliminari f...</td>\n",
       "    </tr>\n",
       "    <tr>\n",
       "      <th>1</th>\n",
       "      <td>0</td>\n",
       "      <td>Subject: hpl nom for january  , \\r\\n( see atta...</td>\n",
       "      <td>97</td>\n",
       "      <td>24</td>\n",
       "      <td>3</td>\n",
       "      <td>subject hpl nom januari see attach file hplnol...</td>\n",
       "      <td>hpl nom januari see attach file hplnol xl hpln...</td>\n",
       "    </tr>\n",
       "    <tr>\n",
       "      <th>2</th>\n",
       "      <td>0</td>\n",
       "      <td>Subject: neon retreat\\r\\nho ho ho , we ' re ar...</td>\n",
       "      <td>2524</td>\n",
       "      <td>551</td>\n",
       "      <td>24</td>\n",
       "      <td>subject neon retreat ho ho ho around wonder ti...</td>\n",
       "      <td>neon retreat ho ho ho around wonder time year ...</td>\n",
       "    </tr>\n",
       "    <tr>\n",
       "      <th>3</th>\n",
       "      <td>1</td>\n",
       "      <td>Subject: photoshop , windows , office . cheap ...</td>\n",
       "      <td>414</td>\n",
       "      <td>49</td>\n",
       "      <td>3</td>\n",
       "      <td>subject photoshop window offic cheap main tren...</td>\n",
       "      <td>photoshop window offic cheap main trend abas d...</td>\n",
       "    </tr>\n",
       "    <tr>\n",
       "      <th>4</th>\n",
       "      <td>0</td>\n",
       "      <td>Subject: re : indian springs\\r\\nthis deal is t...</td>\n",
       "      <td>336</td>\n",
       "      <td>71</td>\n",
       "      <td>3</td>\n",
       "      <td>subject indian spring deal book teco pvr reven...</td>\n",
       "      <td>indian spring book teco pvr revenu understand ...</td>\n",
       "    </tr>\n",
       "  </tbody>\n",
       "</table>\n",
       "</div>"
      ],
      "text/plain": [
       "   target                                               text  num_characters  \\\n",
       "0       0  Subject: enron methanol ; meter # : \\r\\nthis i...             327   \n",
       "1       0  Subject: hpl nom for january  , \\r\\n( see atta...              97   \n",
       "2       0  Subject: neon retreat\\r\\nho ho ho , we ' re ar...            2524   \n",
       "3       1  Subject: photoshop , windows , office . cheap ...             414   \n",
       "4       0  Subject: re : indian springs\\r\\nthis deal is t...             336   \n",
       "\n",
       "   num_words  num_sentences  \\\n",
       "0         68              3   \n",
       "1         24              3   \n",
       "2        551             24   \n",
       "3         49              3   \n",
       "4         71              3   \n",
       "\n",
       "                                    transformed_text  \\\n",
       "0  subject enron methanol meter follow note gave ...   \n",
       "1  subject hpl nom januari see attach file hplnol...   \n",
       "2  subject neon retreat ho ho ho around wonder ti...   \n",
       "3  subject photoshop window offic cheap main tren...   \n",
       "4  subject indian spring deal book teco pvr reven...   \n",
       "\n",
       "                                    text_wo_stopfreq  \n",
       "0  methanol follow note gave monday preliminari f...  \n",
       "1  hpl nom januari see attach file hplnol xl hpln...  \n",
       "2  neon retreat ho ho ho around wonder time year ...  \n",
       "3  photoshop window offic cheap main trend abas d...  \n",
       "4  indian spring book teco pvr revenu understand ...  "
      ]
     },
     "execution_count": 35,
     "metadata": {},
     "output_type": "execute_result"
    }
   ],
   "source": [
    "FREQWORDS = set([w for (w, wc) in cnt.most_common(10)])\n",
    "def remove_freqwords(text):\n",
    "    \"\"\"custom function to remove the frequent word\"\"\"\n",
    "    return \" \".join([word for word in str(text).split() if word not in FREQWORDS])\n",
    "\n",
    "mail_data[\"text_wo_stopfreq\"] = mail_data[\"transformed_text\"].apply(lambda text: remove_freqwords(text))\n",
    "mail_data.head()"
   ]
  },
  {
   "attachments": {},
   "cell_type": "markdown",
   "id": "97693a6b",
   "metadata": {},
   "source": [
    "* #### Removal of Rare words\n"
   ]
  },
  {
   "cell_type": "code",
   "execution_count": 36,
   "id": "b2eb9a58",
   "metadata": {},
   "outputs": [
    {
     "data": {
      "text/html": [
       "<div>\n",
       "<style scoped>\n",
       "    .dataframe tbody tr th:only-of-type {\n",
       "        vertical-align: middle;\n",
       "    }\n",
       "\n",
       "    .dataframe tbody tr th {\n",
       "        vertical-align: top;\n",
       "    }\n",
       "\n",
       "    .dataframe thead th {\n",
       "        text-align: right;\n",
       "    }\n",
       "</style>\n",
       "<table border=\"1\" class=\"dataframe\">\n",
       "  <thead>\n",
       "    <tr style=\"text-align: right;\">\n",
       "      <th></th>\n",
       "      <th>target</th>\n",
       "      <th>text</th>\n",
       "      <th>num_characters</th>\n",
       "      <th>num_words</th>\n",
       "      <th>num_sentences</th>\n",
       "      <th>transformed_text</th>\n",
       "      <th>text_wo_stopfreq</th>\n",
       "      <th>text_wo_stoprare</th>\n",
       "    </tr>\n",
       "  </thead>\n",
       "  <tbody>\n",
       "    <tr>\n",
       "      <th>0</th>\n",
       "      <td>0</td>\n",
       "      <td>Subject: enron methanol ; meter # : \\r\\nthis i...</td>\n",
       "      <td>327</td>\n",
       "      <td>68</td>\n",
       "      <td>3</td>\n",
       "      <td>subject enron methanol meter follow note gave ...</td>\n",
       "      <td>methanol follow note gave monday preliminari f...</td>\n",
       "      <td>methanol follow note gave monday preliminari f...</td>\n",
       "    </tr>\n",
       "    <tr>\n",
       "      <th>1</th>\n",
       "      <td>0</td>\n",
       "      <td>Subject: hpl nom for january  , \\r\\n( see atta...</td>\n",
       "      <td>97</td>\n",
       "      <td>24</td>\n",
       "      <td>3</td>\n",
       "      <td>subject hpl nom januari see attach file hplnol...</td>\n",
       "      <td>hpl nom januari see attach file hplnol xl hpln...</td>\n",
       "      <td>hpl nom januari see attach file hplnol xl hpln...</td>\n",
       "    </tr>\n",
       "    <tr>\n",
       "      <th>2</th>\n",
       "      <td>0</td>\n",
       "      <td>Subject: neon retreat\\r\\nho ho ho , we ' re ar...</td>\n",
       "      <td>2524</td>\n",
       "      <td>551</td>\n",
       "      <td>24</td>\n",
       "      <td>subject neon retreat ho ho ho around wonder ti...</td>\n",
       "      <td>neon retreat ho ho ho around wonder time year ...</td>\n",
       "      <td>neon retreat ho ho ho around wonder time year ...</td>\n",
       "    </tr>\n",
       "    <tr>\n",
       "      <th>3</th>\n",
       "      <td>1</td>\n",
       "      <td>Subject: photoshop , windows , office . cheap ...</td>\n",
       "      <td>414</td>\n",
       "      <td>49</td>\n",
       "      <td>3</td>\n",
       "      <td>subject photoshop window offic cheap main tren...</td>\n",
       "      <td>photoshop window offic cheap main trend abas d...</td>\n",
       "      <td>photoshop window offic cheap main trend abas d...</td>\n",
       "    </tr>\n",
       "    <tr>\n",
       "      <th>4</th>\n",
       "      <td>0</td>\n",
       "      <td>Subject: re : indian springs\\r\\nthis deal is t...</td>\n",
       "      <td>336</td>\n",
       "      <td>71</td>\n",
       "      <td>3</td>\n",
       "      <td>subject indian spring deal book teco pvr reven...</td>\n",
       "      <td>indian spring book teco pvr revenu understand ...</td>\n",
       "      <td>indian spring book teco pvr revenu understand ...</td>\n",
       "    </tr>\n",
       "  </tbody>\n",
       "</table>\n",
       "</div>"
      ],
      "text/plain": [
       "   target                                               text  num_characters  \\\n",
       "0       0  Subject: enron methanol ; meter # : \\r\\nthis i...             327   \n",
       "1       0  Subject: hpl nom for january  , \\r\\n( see atta...              97   \n",
       "2       0  Subject: neon retreat\\r\\nho ho ho , we ' re ar...            2524   \n",
       "3       1  Subject: photoshop , windows , office . cheap ...             414   \n",
       "4       0  Subject: re : indian springs\\r\\nthis deal is t...             336   \n",
       "\n",
       "   num_words  num_sentences  \\\n",
       "0         68              3   \n",
       "1         24              3   \n",
       "2        551             24   \n",
       "3         49              3   \n",
       "4         71              3   \n",
       "\n",
       "                                    transformed_text  \\\n",
       "0  subject enron methanol meter follow note gave ...   \n",
       "1  subject hpl nom januari see attach file hplnol...   \n",
       "2  subject neon retreat ho ho ho around wonder ti...   \n",
       "3  subject photoshop window offic cheap main tren...   \n",
       "4  subject indian spring deal book teco pvr reven...   \n",
       "\n",
       "                                    text_wo_stopfreq  \\\n",
       "0  methanol follow note gave monday preliminari f...   \n",
       "1  hpl nom januari see attach file hplnol xl hpln...   \n",
       "2  neon retreat ho ho ho around wonder time year ...   \n",
       "3  photoshop window offic cheap main trend abas d...   \n",
       "4  indian spring book teco pvr revenu understand ...   \n",
       "\n",
       "                                    text_wo_stoprare  \n",
       "0  methanol follow note gave monday preliminari f...  \n",
       "1  hpl nom januari see attach file hplnol xl hpln...  \n",
       "2  neon retreat ho ho ho around wonder time year ...  \n",
       "3  photoshop window offic cheap main trend abas d...  \n",
       "4  indian spring book teco pvr revenu understand ...  "
      ]
     },
     "execution_count": 36,
     "metadata": {},
     "output_type": "execute_result"
    }
   ],
   "source": [
    "n_rare_words = 10\n",
    "RAREWORDS = set([w for (w, wc) in cnt.most_common()[:-n_rare_words-1:-1]])\n",
    "def remove_rarewords(text):\n",
    "    \"\"\"custom function to remove the rare words\"\"\"\n",
    "    return \" \".join([word for word in str(text).split() if word not in RAREWORDS])\n",
    "\n",
    "mail_data[\"text_wo_stoprare\"] = mail_data[\"text_wo_stopfreq\"].apply(lambda text: remove_rarewords(text))\n",
    "mail_data.head()"
   ]
  },
  {
   "cell_type": "code",
   "execution_count": 37,
   "metadata": {},
   "outputs": [
    {
     "data": {
      "text/html": [
       "<div>\n",
       "<style scoped>\n",
       "    .dataframe tbody tr th:only-of-type {\n",
       "        vertical-align: middle;\n",
       "    }\n",
       "\n",
       "    .dataframe tbody tr th {\n",
       "        vertical-align: top;\n",
       "    }\n",
       "\n",
       "    .dataframe thead th {\n",
       "        text-align: right;\n",
       "    }\n",
       "</style>\n",
       "<table border=\"1\" class=\"dataframe\">\n",
       "  <thead>\n",
       "    <tr style=\"text-align: right;\">\n",
       "      <th></th>\n",
       "      <th>target</th>\n",
       "      <th>text</th>\n",
       "      <th>num_characters</th>\n",
       "      <th>num_words</th>\n",
       "      <th>num_sentences</th>\n",
       "      <th>clean_text</th>\n",
       "    </tr>\n",
       "  </thead>\n",
       "  <tbody>\n",
       "    <tr>\n",
       "      <th>0</th>\n",
       "      <td>0</td>\n",
       "      <td>Subject: enron methanol ; meter # : \\r\\nthis i...</td>\n",
       "      <td>327</td>\n",
       "      <td>68</td>\n",
       "      <td>3</td>\n",
       "      <td>methanol follow note gave monday preliminari f...</td>\n",
       "    </tr>\n",
       "    <tr>\n",
       "      <th>1</th>\n",
       "      <td>0</td>\n",
       "      <td>Subject: hpl nom for january  , \\r\\n( see atta...</td>\n",
       "      <td>97</td>\n",
       "      <td>24</td>\n",
       "      <td>3</td>\n",
       "      <td>hpl nom januari see attach file hplnol xl hpln...</td>\n",
       "    </tr>\n",
       "    <tr>\n",
       "      <th>2</th>\n",
       "      <td>0</td>\n",
       "      <td>Subject: neon retreat\\r\\nho ho ho , we ' re ar...</td>\n",
       "      <td>2524</td>\n",
       "      <td>551</td>\n",
       "      <td>24</td>\n",
       "      <td>neon retreat ho ho ho around wonder time year ...</td>\n",
       "    </tr>\n",
       "    <tr>\n",
       "      <th>3</th>\n",
       "      <td>1</td>\n",
       "      <td>Subject: photoshop , windows , office . cheap ...</td>\n",
       "      <td>414</td>\n",
       "      <td>49</td>\n",
       "      <td>3</td>\n",
       "      <td>photoshop window offic cheap main trend abas d...</td>\n",
       "    </tr>\n",
       "    <tr>\n",
       "      <th>4</th>\n",
       "      <td>0</td>\n",
       "      <td>Subject: re : indian springs\\r\\nthis deal is t...</td>\n",
       "      <td>336</td>\n",
       "      <td>71</td>\n",
       "      <td>3</td>\n",
       "      <td>indian spring book teco pvr revenu understand ...</td>\n",
       "    </tr>\n",
       "  </tbody>\n",
       "</table>\n",
       "</div>"
      ],
      "text/plain": [
       "   target                                               text  num_characters  \\\n",
       "0       0  Subject: enron methanol ; meter # : \\r\\nthis i...             327   \n",
       "1       0  Subject: hpl nom for january  , \\r\\n( see atta...              97   \n",
       "2       0  Subject: neon retreat\\r\\nho ho ho , we ' re ar...            2524   \n",
       "3       1  Subject: photoshop , windows , office . cheap ...             414   \n",
       "4       0  Subject: re : indian springs\\r\\nthis deal is t...             336   \n",
       "\n",
       "   num_words  num_sentences                                         clean_text  \n",
       "0         68              3  methanol follow note gave monday preliminari f...  \n",
       "1         24              3  hpl nom januari see attach file hplnol xl hpln...  \n",
       "2        551             24  neon retreat ho ho ho around wonder time year ...  \n",
       "3         49              3  photoshop window offic cheap main trend abas d...  \n",
       "4         71              3  indian spring book teco pvr revenu understand ...  "
      ]
     },
     "execution_count": 37,
     "metadata": {},
     "output_type": "execute_result"
    }
   ],
   "source": [
    "mail_data.drop(columns=['transformed_text','text_wo_stopfreq'],inplace=True)\n",
    "mail_data.rename(columns={'text_wo_stoprare':'clean_text'},inplace=True) \n",
    "mail_data.head()"
   ]
  },
  {
   "attachments": {},
   "cell_type": "markdown",
   "id": "b3c27692",
   "metadata": {
    "id": "cKJ7NBrGw-KS",
    "papermill": {
     "duration": 0.013296,
     "end_time": "2023-04-16T07:06:59.492521",
     "exception": false,
     "start_time": "2023-04-16T07:06:59.479225",
     "status": "completed"
    },
    "tags": []
   },
   "source": [
    "# EDA"
   ]
  },
  {
   "cell_type": "code",
   "execution_count": 38,
   "id": "4cdfbe9d",
   "metadata": {
    "execution": {
     "iopub.execute_input": "2023-04-16T07:06:59.521586Z",
     "iopub.status.busy": "2023-04-16T07:06:59.520602Z",
     "iopub.status.idle": "2023-04-16T07:06:59.526135Z",
     "shell.execute_reply": "2023-04-16T07:06:59.525269Z"
    },
    "id": "aoYRhnOIsUXF",
    "papermill": {
     "duration": 0.022327,
     "end_time": "2023-04-16T07:06:59.528173",
     "exception": false,
     "start_time": "2023-04-16T07:06:59.505846",
     "status": "completed"
    },
    "tags": []
   },
   "outputs": [],
   "source": [
    "wc = WordCloud(width=500,height=500,min_font_size=10,background_color='white')"
   ]
  },
  {
   "cell_type": "code",
   "execution_count": 40,
   "id": "ff402cb9",
   "metadata": {
    "execution": {
     "iopub.execute_input": "2023-04-16T07:06:59.556925Z",
     "iopub.status.busy": "2023-04-16T07:06:59.555969Z",
     "iopub.status.idle": "2023-04-16T07:07:00.161998Z",
     "shell.execute_reply": "2023-04-16T07:07:00.160905Z"
    },
    "id": "qyjN7hWjvcIu",
    "outputId": "7b6a8c35-4ff0-42ce-db1b-092f31e9d370",
    "papermill": {
     "duration": 0.625099,
     "end_time": "2023-04-16T07:07:00.166352",
     "exception": false,
     "start_time": "2023-04-16T07:06:59.541253",
     "status": "completed"
    },
    "tags": []
   },
   "outputs": [
    {
     "data": {
      "text/plain": [
       "<matplotlib.image.AxesImage at 0x29c104e1f50>"
      ]
     },
     "execution_count": 40,
     "metadata": {},
     "output_type": "execute_result"
    },
    {
     "data": {
      "image/png": "[encoded data removed]",
      "text/plain": [
       "<Figure size 1500x600 with 1 Axes>"
      ]
     },
     "metadata": {},
     "output_type": "display_data"
    }
   ],
   "source": [
    "spam_wc = wc.generate(mail_data[mail_data['target'] == 1]['clean_text'].str.cat(sep=\" \"))\n",
    "plt.figure(figsize=(15,6))\n",
    "plt.imshow(spam_wc)"
   ]
  },
  {
   "cell_type": "code",
   "execution_count": 41,
   "id": "25ed1d75",
   "metadata": {
    "execution": {
     "iopub.execute_input": "2023-04-16T07:07:00.206022Z",
     "iopub.status.busy": "2023-04-16T07:07:00.205121Z",
     "iopub.status.idle": "2023-04-16T07:07:01.167647Z",
     "shell.execute_reply": "2023-04-16T07:07:01.166680Z"
    },
    "id": "AinwHouZveG_",
    "outputId": "74123572-32b3-4e3f-80fb-f4ffdf589df2",
    "papermill": {
     "duration": 0.986582,
     "end_time": "2023-04-16T07:07:01.171803",
     "exception": false,
     "start_time": "2023-04-16T07:07:00.185221",
     "status": "completed"
    },
    "tags": []
   },
   "outputs": [
    {
     "data": {
      "text/plain": [
       "<matplotlib.image.AxesImage at 0x29c18170f10>"
      ]
     },
     "execution_count": 41,
     "metadata": {},
     "output_type": "execute_result"
    },
    {
     "data": {
      "image/png": "[encoded data removed]",
      "text/plain": [
       "<Figure size 1500x600 with 1 Axes>"
      ]
     },
     "metadata": {},
     "output_type": "display_data"
    }
   ],
   "source": [
    "ham_wc = wc.generate(mail_data[mail_data['target'] == 0]['clean_text'].str.cat(sep=\" \"))\n",
    "plt.figure(figsize=(15,6))\n",
    "plt.imshow(ham_wc)"
   ]
  },
  {
   "cell_type": "code",
   "execution_count": 43,
   "id": "4509f01a",
   "metadata": {
    "execution": {
     "iopub.execute_input": "2023-04-16T07:07:01.215190Z",
     "iopub.status.busy": "2023-04-16T07:07:01.214801Z",
     "iopub.status.idle": "2023-04-16T07:07:01.233270Z",
     "shell.execute_reply": "2023-04-16T07:07:01.232191Z"
    },
    "id": "WWbnsuBivswh",
    "outputId": "0e2cec38-4645-4a89-f26d-53d0e9c2abc1",
    "papermill": {
     "duration": 0.043317,
     "end_time": "2023-04-16T07:07:01.235347",
     "exception": false,
     "start_time": "2023-04-16T07:07:01.192030",
     "status": "completed"
    },
    "tags": []
   },
   "outputs": [
    {
     "name": "stdout",
     "output_type": "stream",
     "text": [
      "175407 267060\n"
     ]
    }
   ],
   "source": [
    "spam_corpus = []\n",
    "for msg in mail_data[mail_data['target'] == 1]['clean_text'].tolist():\n",
    "    for word in msg.split():\n",
    "        spam_corpus.append(word)\n",
    "\n",
    "ham_corpus = []\n",
    "for msg in mail_data[mail_data['target'] == 0]['clean_text'].tolist():\n",
    "    for word in msg.split():\n",
    "        ham_corpus.append(word)\n",
    "  \n",
    "print(len(spam_corpus), len(ham_corpus))"
   ]
  },
  {
   "cell_type": "code",
   "execution_count": 44,
   "id": "e8e5144d",
   "metadata": {
    "execution": {
     "iopub.execute_input": "2023-04-16T07:07:01.278545Z",
     "iopub.status.busy": "2023-04-16T07:07:01.278179Z",
     "iopub.status.idle": "2023-04-16T07:07:01.643440Z",
     "shell.execute_reply": "2023-04-16T07:07:01.642137Z"
    },
    "id": "rZCboOZ4v48E",
    "outputId": "77a2bdbb-7ac7-48d8-c5bf-a9b27c7e1823",
    "papermill": {
     "duration": 0.390735,
     "end_time": "2023-04-16T07:07:01.645767",
     "exception": false,
     "start_time": "2023-04-16T07:07:01.255032",
     "status": "completed"
    },
    "tags": []
   },
   "outputs": [
    {
     "data": {
      "image/png": "[encoded data removed]",
      "text/plain": [
       "<Figure size 640x480 with 1 Axes>"
      ]
     },
     "metadata": {},
     "output_type": "display_data"
    }
   ],
   "source": [
    "from collections import Counter\n",
    "word_freq = Counter(spam_corpus).most_common(30)\n",
    "word_freq_mail_data = pd.DataFrame(word_freq, columns=['word', 'count'])\n",
    "sns.barplot(data=word_freq_mail_data, x='word', y='count')\n",
    "plt.xticks(rotation='vertical')\n",
    "plt.show()"
   ]
  },
  {
   "cell_type": "code",
   "execution_count": 45,
   "id": "d4f6cd21",
   "metadata": {
    "execution": {
     "iopub.execute_input": "2023-04-16T07:07:01.688911Z",
     "iopub.status.busy": "2023-04-16T07:07:01.687952Z",
     "iopub.status.idle": "2023-04-16T07:07:02.062859Z",
     "shell.execute_reply": "2023-04-16T07:07:02.061667Z"
    },
    "id": "rLj-JO19wSv0",
    "outputId": "99ca1a7f-d79a-4acd-accd-32be69f8f6ff",
    "papermill": {
     "duration": 0.399063,
     "end_time": "2023-04-16T07:07:02.065124",
     "exception": false,
     "start_time": "2023-04-16T07:07:01.666061",
     "status": "completed"
    },
    "tags": []
   },
   "outputs": [
    {
     "data": {
      "image/png": "[encoded data removed]",
      "text/plain": [
       "<Figure size 640x480 with 1 Axes>"
      ]
     },
     "metadata": {},
     "output_type": "display_data"
    }
   ],
   "source": [
    "word_freq = Counter(ham_corpus).most_common(30)\n",
    "word_freq_mail_data = pd.DataFrame(word_freq, columns=['word', 'count'])\n",
    "sns.barplot(data=word_freq_mail_data, x='word', y='count')\n",
    "plt.xticks(rotation='vertical')\n",
    "plt.show()"
   ]
  },
  {
   "attachments": {},
   "cell_type": "markdown",
   "id": "17854ead",
   "metadata": {
    "id": "iDUMvV5c0xtk",
    "papermill": {
     "duration": 0.020271,
     "end_time": "2023-04-16T07:07:02.105917",
     "exception": false,
     "start_time": "2023-04-16T07:07:02.085646",
     "status": "completed"
    },
    "tags": []
   },
   "source": [
    "# Model building"
   ]
  },
  {
   "attachments": {},
   "cell_type": "markdown",
   "id": "4cb7a5bd",
   "metadata": {
    "id": "bYlQA1C7t4Qz",
    "papermill": {
     "duration": 0.020045,
     "end_time": "2023-04-16T07:07:02.146094",
     "exception": false,
     "start_time": "2023-04-16T07:07:02.126049",
     "status": "completed"
    },
    "tags": []
   },
   "source": [
    "## RNN"
   ]
  },
  {
   "cell_type": "code",
   "execution_count": 46,
   "id": "2074c6c0",
   "metadata": {
    "execution": {
     "iopub.execute_input": "2023-04-16T07:07:02.188514Z",
     "iopub.status.busy": "2023-04-16T07:07:02.187832Z",
     "iopub.status.idle": "2023-04-16T07:07:02.358585Z",
     "shell.execute_reply": "2023-04-16T07:07:02.356264Z"
    },
    "id": "nc-woyN6cwL7",
    "papermill": {
     "duration": 0.198034,
     "end_time": "2023-04-16T07:07:02.364310",
     "exception": false,
     "start_time": "2023-04-16T07:07:02.166276",
     "status": "completed"
    },
    "tags": []
   },
   "outputs": [],
   "source": [
    "X=mail_data['clean_text']\n",
    "y = mail_data['target'].values\n",
    "X_train,X_test,y_train,y_test = train_test_split(X,y,test_size=0.2,random_state=42)\n",
    "\n",
    "max_words = 1000\n",
    "max_len = 150\n",
    "tok = Tokenizer(num_words=max_words)\n",
    "tok.fit_on_texts(X_train)\n",
    "sequences = tok.texts_to_sequences(X_train)\n",
    "sequences_matrix = pad_sequences(sequences,maxlen=max_len)"
   ]
  },
  {
   "cell_type": "code",
   "execution_count": 47,
   "id": "83149301",
   "metadata": {
    "execution": {
     "iopub.execute_input": "2023-04-16T07:07:02.436461Z",
     "iopub.status.busy": "2023-04-16T07:07:02.436070Z",
     "iopub.status.idle": "2023-04-16T07:07:02.446820Z",
     "shell.execute_reply": "2023-04-16T07:07:02.443778Z"
    },
    "id": "MpdkTpfSuyNR",
    "papermill": {
     "duration": 0.049872,
     "end_time": "2023-04-16T07:07:02.449386",
     "exception": false,
     "start_time": "2023-04-16T07:07:02.399514",
     "status": "completed"
    },
    "tags": []
   },
   "outputs": [],
   "source": [
    "def RNN():\n",
    "    inputs = Input(name='inputs',shape=[max_len])\n",
    "    layer = Embedding(max_words,50,input_length=max_len)(inputs)\n",
    "    layer = LSTM(64)(layer)\n",
    "    layer = Dense(256,name='FC1')(layer)\n",
    "    layer = Activation('relu')(layer)\n",
    "    layer = Dropout(0.5)(layer)\n",
    "    layer = Dense(1,name='out_layer')(layer)\n",
    "    layer = Activation('sigmoid')(layer)\n",
    "    model = Model(inputs=inputs,outputs=layer)\n",
    "    return model"
   ]
  },
  {
   "cell_type": "code",
   "execution_count": 48,
   "id": "a4940fa1",
   "metadata": {
    "execution": {
     "iopub.execute_input": "2023-04-16T07:07:02.491550Z",
     "iopub.status.busy": "2023-04-16T07:07:02.491253Z",
     "iopub.status.idle": "2023-04-16T07:07:02.868504Z",
     "shell.execute_reply": "2023-04-16T07:07:02.867233Z"
    },
    "id": "Fd_T_JgOvEk2",
    "outputId": "95b68640-ab5c-46a4-8207-6cc41f04f059",
    "papermill": {
     "duration": 0.400785,
     "end_time": "2023-04-16T07:07:02.870777",
     "exception": false,
     "start_time": "2023-04-16T07:07:02.469992",
     "status": "completed"
    },
    "tags": []
   },
   "outputs": [
    {
     "name": "stdout",
     "output_type": "stream",
     "text": [
      "Model: \"model\"\n",
      "_________________________________________________________________\n",
      " Layer (type)                Output Shape              Param #   \n",
      "=================================================================\n",
      " inputs (InputLayer)         [(None, 150)]             0         \n",
      "                                                                 \n",
      " embedding (Embedding)       (None, 150, 50)           50000     \n",
      "                                                                 \n",
      " lstm (LSTM)                 (None, 64)                29440     \n",
      "                                                                 \n",
      " FC1 (Dense)                 (None, 256)               16640     \n",
      "                                                                 \n",
      " activation (Activation)     (None, 256)               0         \n",
      "                                                                 \n",
      " dropout_37 (Dropout)        (None, 256)               0         \n",
      "                                                                 \n",
      " out_layer (Dense)           (None, 1)                 257       \n",
      "                                                                 \n",
      " activation_1 (Activation)   (None, 1)                 0         \n",
      "                                                                 \n",
      "=================================================================\n",
      "Total params: 96,337\n",
      "Trainable params: 96,337\n",
      "Non-trainable params: 0\n",
      "_________________________________________________________________\n"
     ]
    }
   ],
   "source": [
    "model = RNN()\n",
    "model.summary()\n",
    "model.compile(loss='binary_crossentropy',optimizer=RMSprop(),metrics=['accuracy'])"
   ]
  },
  {
   "cell_type": "code",
   "execution_count": 49,
   "id": "11e116d7",
   "metadata": {
    "execution": {
     "iopub.execute_input": "2023-04-16T07:07:02.916148Z",
     "iopub.status.busy": "2023-04-16T07:07:02.915828Z",
     "iopub.status.idle": "2023-04-16T07:07:08.058127Z",
     "shell.execute_reply": "2023-04-16T07:07:08.057127Z"
    },
    "id": "bdV3jRmuvEvF",
    "outputId": "2608c013-5547-46b8-8b49-c05f012d29e5",
    "papermill": {
     "duration": 5.167947,
     "end_time": "2023-04-16T07:07:08.060507",
     "exception": false,
     "start_time": "2023-04-16T07:07:02.892560",
     "status": "completed"
    },
    "tags": []
   },
   "outputs": [
    {
     "name": "stdout",
     "output_type": "stream",
     "text": [
      "Epoch 1/10\n",
      "25/25 [==============================] - 12s 192ms/step - loss: 0.4832 - accuracy: 0.7715 - val_loss: 0.2625 - val_accuracy: 0.9337\n",
      "Epoch 2/10\n",
      "25/25 [==============================] - 4s 160ms/step - loss: 0.1583 - accuracy: 0.9515 - val_loss: 0.1157 - val_accuracy: 0.9562\n",
      "Epoch 3/10\n",
      "25/25 [==============================] - 4s 150ms/step - loss: 0.0875 - accuracy: 0.9712 - val_loss: 0.1075 - val_accuracy: 0.9587\n",
      "Epoch 4/10\n",
      "25/25 [==============================] - 4s 163ms/step - loss: 0.0613 - accuracy: 0.9781 - val_loss: 0.1039 - val_accuracy: 0.9562\n",
      "Epoch 5/10\n",
      "25/25 [==============================] - 4s 155ms/step - loss: 0.0579 - accuracy: 0.9828 - val_loss: 0.1176 - val_accuracy: 0.9512\n"
     ]
    },
    {
     "data": {
      "text/plain": [
       "<keras.callbacks.History at 0x29c13cf4710>"
      ]
     },
     "execution_count": 49,
     "metadata": {},
     "output_type": "execute_result"
    }
   ],
   "source": [
    "model.fit(sequences_matrix,y_train,batch_size=128,epochs=10,\n",
    "          validation_split=0.2,callbacks=[EarlyStopping(monitor='val_loss',min_delta=0.0001)])"
   ]
  },
  {
   "cell_type": "code",
   "execution_count": 50,
   "id": "03bd1956",
   "metadata": {
    "execution": {
     "iopub.execute_input": "2023-04-16T07:07:08.108282Z",
     "iopub.status.busy": "2023-04-16T07:07:08.107364Z",
     "iopub.status.idle": "2023-04-16T07:07:10.022507Z",
     "shell.execute_reply": "2023-04-16T07:07:10.021368Z"
    },
    "id": "9wM36863vQ0_",
    "papermill": {
     "duration": 1.941948,
     "end_time": "2023-04-16T07:07:10.025223",
     "exception": false,
     "start_time": "2023-04-16T07:07:08.083275",
     "status": "completed"
    },
    "tags": []
   },
   "outputs": [],
   "source": [
    "test_sequences = tok.texts_to_sequences(X_test)\n",
    "test_sequences_matrix = pad_sequences(test_sequences,maxlen=max_len)"
   ]
  },
  {
   "cell_type": "code",
   "execution_count": 51,
   "id": "25bc1650",
   "metadata": {
    "execution": {
     "iopub.execute_input": "2023-04-16T07:07:10.072846Z",
     "iopub.status.busy": "2023-04-16T07:07:10.071827Z",
     "iopub.status.idle": "2023-04-16T07:07:10.752857Z",
     "shell.execute_reply": "2023-04-16T07:07:10.751693Z"
    },
    "id": "U1tDBgHuvhuR",
    "outputId": "932df00b-9f8b-4274-f88c-c63fd01f2e09",
    "papermill": {
     "duration": 0.706883,
     "end_time": "2023-04-16T07:07:10.755003",
     "exception": false,
     "start_time": "2023-04-16T07:07:10.048120",
     "status": "completed"
    },
    "tags": []
   },
   "outputs": [
    {
     "name": "stdout",
     "output_type": "stream",
     "text": [
      "32/32 [==============================] - 1s 16ms/step - loss: 0.1215 - accuracy: 0.9550\n",
      "Test set\n",
      "  Loss: 0.122\n",
      "  Accuracy: 0.955\n"
     ]
    }
   ],
   "source": [
    "accr = model.evaluate(test_sequences_matrix,y_test)\n",
    "print('Test set\\n  Loss: {:0.3f}\\n  Accuracy: {:0.3f}'.format(accr[0],accr[1]))"
   ]
  },
  {
   "attachments": {},
   "cell_type": "markdown",
   "id": "3e292c9f",
   "metadata": {
    "id": "Nc_JnQv3yAsX",
    "papermill": {
     "duration": 0.022718,
     "end_time": "2023-04-16T07:07:10.800856",
     "exception": false,
     "start_time": "2023-04-16T07:07:10.778138",
     "status": "completed"
    },
    "tags": []
   },
   "source": [
    "## BERT"
   ]
  },
  {
   "cell_type": "code",
   "execution_count": 52,
   "id": "191e6045",
   "metadata": {
    "execution": {
     "iopub.execute_input": "2023-04-16T07:07:10.847816Z",
     "iopub.status.busy": "2023-04-16T07:07:10.847489Z",
     "iopub.status.idle": "2023-04-16T07:07:11.969330Z",
     "shell.execute_reply": "2023-04-16T07:07:11.968322Z"
    },
    "id": "oiEjMBWXyCAq",
    "outputId": "49c76726-1a32-41e8-a1e6-1119873b1083",
    "papermill": {
     "duration": 1.148286,
     "end_time": "2023-04-16T07:07:11.971900",
     "exception": false,
     "start_time": "2023-04-16T07:07:10.823614",
     "status": "completed"
    },
    "tags": []
   },
   "outputs": [],
   "source": [
    "from transformers import BertTokenizer\n",
    "tokenizer = BertTokenizer.from_pretrained('bert-large-uncased')\n",
    "\n",
    "def bert_encode(data, maximum_length) :\n",
    "    input_ids = []\n",
    "    attention_masks = []\n",
    "\n",
    "    for text in data:\n",
    "        encoded = tokenizer.encode_plus(\n",
    "            text, \n",
    "            add_special_tokens=True,\n",
    "            max_length=maximum_length,\n",
    "            pad_to_max_length=True,\n",
    "\n",
    "            return_attention_mask=True,\n",
    "        )\n",
    "        input_ids.append(encoded['input_ids'])\n",
    "        attention_masks.append(encoded['attention_mask'])\n",
    "        \n",
    "    return np.array(input_ids),np.array(attention_masks)"
   ]
  },
  {
   "cell_type": "code",
   "execution_count": 53,
   "id": "60859ec0",
   "metadata": {
    "execution": {
     "iopub.execute_input": "2023-04-16T07:07:12.022474Z",
     "iopub.status.busy": "2023-04-16T07:07:12.021409Z",
     "iopub.status.idle": "2023-04-16T07:07:14.119945Z",
     "shell.execute_reply": "2023-04-16T07:07:14.118752Z"
    },
    "id": "0wkmx4LhyFkh",
    "outputId": "f43074b0-c090-46a8-bd51-c1f315ca4cf9",
    "papermill": {
     "duration": 2.127039,
     "end_time": "2023-04-16T07:07:14.123190",
     "exception": false,
     "start_time": "2023-04-16T07:07:11.996151",
     "status": "completed"
    },
    "tags": []
   },
   "outputs": [
    {
     "name": "stderr",
     "output_type": "stream",
     "text": [
      "Truncation was not explicitly activated but `max_length` is provided a specific value, please use `truncation=True` to explicitly truncate examples to max length. Defaulting to 'longest_first' truncation strategy. If you encode pairs of sequences (GLUE-style) with the tokenizer you can select this strategy more precisely by providing a specific strategy to `truncation`.\n",
      "c:\\Users\\Himasha\\AppData\\Local\\Programs\\Python\\Python311\\Lib\\site-packages\\transformers\\tokenization_utils_base.py:2346: FutureWarning: The `pad_to_max_length` argument is deprecated and will be removed in a future version, use `padding=True` or `padding='longest'` to pad to the longest sequence in the batch, or use `padding='max_length'` to pad to a max length. In this case, you can give a specific length with `max_length` (e.g. `max_length=45`) or leave max_length to None to pad to the maximal input size of the model (e.g. 512 for Bert).\n",
      "  warnings.warn(\n"
     ]
    }
   ],
   "source": [
    "train_input_ids, train_attention_masks = bert_encode(X,60)"
   ]
  },
  {
   "cell_type": "code",
   "execution_count": 54,
   "id": "241d629a",
   "metadata": {
    "execution": {
     "iopub.execute_input": "2023-04-16T07:07:14.175592Z",
     "iopub.status.busy": "2023-04-16T07:07:14.175256Z",
     "iopub.status.idle": "2023-04-16T07:07:14.183538Z",
     "shell.execute_reply": "2023-04-16T07:07:14.182487Z"
    },
    "id": "XwxlQBcbyFnJ",
    "papermill": {
     "duration": 0.037179,
     "end_time": "2023-04-16T07:07:14.185784",
     "exception": false,
     "start_time": "2023-04-16T07:07:14.148605",
     "status": "completed"
    },
    "tags": []
   },
   "outputs": [],
   "source": [
    "import tensorflow as tf\n",
    "from tensorflow.keras.optimizers import Adam\n",
    "\n",
    "def create_model(bert_model):\n",
    "    \n",
    "    input_ids = tf.keras.Input(shape=(60,),dtype='int32')\n",
    "    attention_masks = tf.keras.Input(shape=(60,),dtype='int32')\n",
    "\n",
    "    output = bert_model([input_ids,attention_masks])\n",
    "    output = output[1]\n",
    "    output = tf.keras.layers.Dense(32,activation='relu')(output)\n",
    "    output = tf.keras.layers.Dropout(0.2)(output)\n",
    "    output = tf.keras.layers.Dense(1,activation='sigmoid')(output)\n",
    "    \n",
    "    model = tf.keras.models.Model(inputs = [input_ids,attention_masks],outputs = output)\n",
    "    model.compile(Adam(lr=1e-5), loss='binary_crossentropy', metrics=['accuracy'])\n",
    "    return model"
   ]
  },
  {
   "cell_type": "code",
   "execution_count": 55,
   "id": "e0542a53",
   "metadata": {
    "execution": {
     "iopub.execute_input": "2023-04-16T07:07:14.233315Z",
     "iopub.status.busy": "2023-04-16T07:07:14.233012Z",
     "iopub.status.idle": "2023-04-16T07:07:15.706326Z",
     "shell.execute_reply": "2023-04-16T07:07:15.705354Z"
    },
    "id": "LrGc9baVyFpu",
    "outputId": "13ffa719-9d61-43a3-ea5f-375d116d8aa3",
    "papermill": {
     "duration": 1.50003,
     "end_time": "2023-04-16T07:07:15.708818",
     "exception": false,
     "start_time": "2023-04-16T07:07:14.208788",
     "status": "completed"
    },
    "tags": []
   },
   "outputs": [
    {
     "name": "stderr",
     "output_type": "stream",
     "text": [
      "Some layers from the model checkpoint at bert-base-uncased were not used when initializing TFBertModel: ['mlm___cls', 'nsp___cls']\n",
      "- This IS expected if you are initializing TFBertModel from the checkpoint of a model trained on another task or with another architecture (e.g. initializing a BertForSequenceClassification model from a BertForPreTraining model).\n",
      "- This IS NOT expected if you are initializing TFBertModel from the checkpoint of a model that you expect to be exactly identical (initializing a BertForSequenceClassification model from a BertForSequenceClassification model).\n",
      "All the layers of TFBertModel were initialized from the model checkpoint at bert-base-uncased.\n",
      "If your task is similar to the task the model of the checkpoint was trained on, you can already use TFBertModel for predictions without further training.\n"
     ]
    }
   ],
   "source": [
    "from transformers import TFBertModel\n",
    "bert_model = TFBertModel.from_pretrained('bert-base-uncased')"
   ]
  },
  {
   "cell_type": "code",
   "execution_count": 56,
   "id": "cbdac2fe",
   "metadata": {
    "execution": {
     "iopub.execute_input": "2023-04-16T07:07:15.758048Z",
     "iopub.status.busy": "2023-04-16T07:07:15.757760Z",
     "iopub.status.idle": "2023-04-16T07:07:21.753815Z",
     "shell.execute_reply": "2023-04-16T07:07:21.752472Z"
    },
    "id": "MPr7c9XDyRiA",
    "outputId": "787361c0-9e28-4dac-8999-40986668819b",
    "papermill": {
     "duration": 6.023207,
     "end_time": "2023-04-16T07:07:21.756193",
     "exception": false,
     "start_time": "2023-04-16T07:07:15.732986",
     "status": "completed"
    },
    "tags": []
   },
   "outputs": [
    {
     "name": "stderr",
     "output_type": "stream",
     "text": [
      "WARNING:absl:`lr` is deprecated in Keras optimizer, please use `learning_rate` or use the legacy optimizer, e.g.,tf.keras.optimizers.legacy.Adam.\n"
     ]
    },
    {
     "name": "stdout",
     "output_type": "stream",
     "text": [
      "Model: \"model_1\"\n",
      "__________________________________________________________________________________________________\n",
      " Layer (type)                   Output Shape         Param #     Connected to                     \n",
      "==================================================================================================\n",
      " input_1 (InputLayer)           [(None, 60)]         0           []                               \n",
      "                                                                                                  \n",
      " input_2 (InputLayer)           [(None, 60)]         0           []                               \n",
      "                                                                                                  \n",
      " tf_bert_model_1 (TFBertModel)  TFBaseModelOutputWi  109482240   ['input_1[0][0]',                \n",
      "                                thPoolingAndCrossAt               'input_2[0][0]']                \n",
      "                                tentions(last_hidde                                               \n",
      "                                n_state=(None, 60,                                                \n",
      "                                768),                                                             \n",
      "                                 pooler_output=(Non                                               \n",
      "                                e, 768),                                                          \n",
      "                                 past_key_values=No                                               \n",
      "                                ne, hidden_states=N                                               \n",
      "                                one, attentions=Non                                               \n",
      "                                e, cross_attentions                                               \n",
      "                                =None)                                                            \n",
      "                                                                                                  \n",
      " dense (Dense)                  (None, 32)           24608       ['tf_bert_model_1[0][1]']        \n",
      "                                                                                                  \n",
      " dropout_75 (Dropout)           (None, 32)           0           ['dense[0][0]']                  \n",
      "                                                                                                  \n",
      " dense_1 (Dense)                (None, 1)            33          ['dropout_75[0][0]']             \n",
      "                                                                                                  \n",
      "==================================================================================================\n",
      "Total params: 109,506,881\n",
      "Trainable params: 109,506,881\n",
      "Non-trainable params: 0\n",
      "__________________________________________________________________________________________________\n"
     ]
    }
   ],
   "source": [
    "model = create_model(bert_model)\n",
    "model.summary()"
   ]
  },
  {
   "cell_type": "code",
   "execution_count": 57,
   "id": "41a53597",
   "metadata": {
    "execution": {
     "iopub.execute_input": "2023-04-16T07:07:21.809258Z",
     "iopub.status.busy": "2023-04-16T07:07:21.808905Z",
     "iopub.status.idle": "2023-04-16T07:10:55.701891Z",
     "shell.execute_reply": "2023-04-16T07:10:55.700809Z"
    },
    "id": "REJNHI_eyRki",
    "outputId": "4697c207-1d52-4dd5-8273-1bffe9b968df",
    "papermill": {
     "duration": 213.92203,
     "end_time": "2023-04-16T07:10:55.704690",
     "exception": false,
     "start_time": "2023-04-16T07:07:21.782660",
     "status": "completed"
    },
    "tags": []
   },
   "outputs": [
    {
     "name": "stdout",
     "output_type": "stream",
     "text": [
      "Epoch 1/3\n",
      "291/400 [====================>.........] - ETA: 9:54 - loss: 0.6229 - accuracy: 0.7065"
     ]
    },
    {
     "ename": "KeyboardInterrupt",
     "evalue": "",
     "output_type": "error",
     "traceback": [
      "\u001b[1;31m---------------------------------------------------------------------------\u001b[0m",
      "\u001b[1;31mKeyboardInterrupt\u001b[0m                         Traceback (most recent call last)",
      "Cell \u001b[1;32mIn[57], line 1\u001b[0m\n\u001b[1;32m----> 1\u001b[0m history \u001b[39m=\u001b[39m model\u001b[39m.\u001b[39;49mfit(\n\u001b[0;32m      2\u001b[0m     [train_input_ids, train_attention_masks],\n\u001b[0;32m      3\u001b[0m     y,\n\u001b[0;32m      4\u001b[0m     validation_split\u001b[39m=\u001b[39;49m\u001b[39m0.2\u001b[39;49m, \n\u001b[0;32m      5\u001b[0m     epochs\u001b[39m=\u001b[39;49m\u001b[39m3\u001b[39;49m,\n\u001b[0;32m      6\u001b[0m     batch_size\u001b[39m=\u001b[39;49m\u001b[39m10\u001b[39;49m\n\u001b[0;32m      7\u001b[0m )\n",
      "File \u001b[1;32mc:\\Users\\Himasha\\AppData\\Local\\Programs\\Python\\Python311\\Lib\\site-packages\\keras\\utils\\traceback_utils.py:65\u001b[0m, in \u001b[0;36mfilter_traceback.<locals>.error_handler\u001b[1;34m(*args, **kwargs)\u001b[0m\n\u001b[0;32m     63\u001b[0m filtered_tb \u001b[39m=\u001b[39m \u001b[39mNone\u001b[39;00m\n\u001b[0;32m     64\u001b[0m \u001b[39mtry\u001b[39;00m:\n\u001b[1;32m---> 65\u001b[0m     \u001b[39mreturn\u001b[39;00m fn(\u001b[39m*\u001b[39;49margs, \u001b[39m*\u001b[39;49m\u001b[39m*\u001b[39;49mkwargs)\n\u001b[0;32m     66\u001b[0m \u001b[39mexcept\u001b[39;00m \u001b[39mException\u001b[39;00m \u001b[39mas\u001b[39;00m e:\n\u001b[0;32m     67\u001b[0m     filtered_tb \u001b[39m=\u001b[39m _process_traceback_frames(e\u001b[39m.\u001b[39m__traceback__)\n",
      "File \u001b[1;32mc:\\Users\\Himasha\\AppData\\Local\\Programs\\Python\\Python311\\Lib\\site-packages\\keras\\engine\\training.py:1691\u001b[0m, in \u001b[0;36mModel.fit\u001b[1;34m(self, x, y, batch_size, epochs, verbose, callbacks, validation_split, validation_data, shuffle, class_weight, sample_weight, initial_epoch, steps_per_epoch, validation_steps, validation_batch_size, validation_freq, max_queue_size, workers, use_multiprocessing)\u001b[0m\n\u001b[0;32m   1689\u001b[0m logs \u001b[39m=\u001b[39m tmp_logs\n\u001b[0;32m   1690\u001b[0m end_step \u001b[39m=\u001b[39m step \u001b[39m+\u001b[39m data_handler\u001b[39m.\u001b[39mstep_increment\n\u001b[1;32m-> 1691\u001b[0m callbacks\u001b[39m.\u001b[39;49mon_train_batch_end(end_step, logs)\n\u001b[0;32m   1692\u001b[0m \u001b[39mif\u001b[39;00m \u001b[39mself\u001b[39m\u001b[39m.\u001b[39mstop_training:\n\u001b[0;32m   1693\u001b[0m     \u001b[39mbreak\u001b[39;00m\n",
      "File \u001b[1;32mc:\\Users\\Himasha\\AppData\\Local\\Programs\\Python\\Python311\\Lib\\site-packages\\keras\\callbacks.py:475\u001b[0m, in \u001b[0;36mCallbackList.on_train_batch_end\u001b[1;34m(self, batch, logs)\u001b[0m\n\u001b[0;32m    468\u001b[0m \u001b[39m\u001b[39m\u001b[39m\"\"\"Calls the `on_train_batch_end` methods of its callbacks.\u001b[39;00m\n\u001b[0;32m    469\u001b[0m \n\u001b[0;32m    470\u001b[0m \u001b[39mArgs:\u001b[39;00m\n\u001b[0;32m    471\u001b[0m \u001b[39m    batch: Integer, index of batch within the current epoch.\u001b[39;00m\n\u001b[0;32m    472\u001b[0m \u001b[39m    logs: Dict. Aggregated metric results up until this batch.\u001b[39;00m\n\u001b[0;32m    473\u001b[0m \u001b[39m\"\"\"\u001b[39;00m\n\u001b[0;32m    474\u001b[0m \u001b[39mif\u001b[39;00m \u001b[39mself\u001b[39m\u001b[39m.\u001b[39m_should_call_train_batch_hooks:\n\u001b[1;32m--> 475\u001b[0m     \u001b[39mself\u001b[39;49m\u001b[39m.\u001b[39;49m_call_batch_hook(ModeKeys\u001b[39m.\u001b[39;49mTRAIN, \u001b[39m\"\u001b[39;49m\u001b[39mend\u001b[39;49m\u001b[39m\"\u001b[39;49m, batch, logs\u001b[39m=\u001b[39;49mlogs)\n",
      "File \u001b[1;32mc:\\Users\\Himasha\\AppData\\Local\\Programs\\Python\\Python311\\Lib\\site-packages\\keras\\callbacks.py:322\u001b[0m, in \u001b[0;36mCallbackList._call_batch_hook\u001b[1;34m(self, mode, hook, batch, logs)\u001b[0m\n\u001b[0;32m    320\u001b[0m     \u001b[39mself\u001b[39m\u001b[39m.\u001b[39m_call_batch_begin_hook(mode, batch, logs)\n\u001b[0;32m    321\u001b[0m \u001b[39melif\u001b[39;00m hook \u001b[39m==\u001b[39m \u001b[39m\"\u001b[39m\u001b[39mend\u001b[39m\u001b[39m\"\u001b[39m:\n\u001b[1;32m--> 322\u001b[0m     \u001b[39mself\u001b[39;49m\u001b[39m.\u001b[39;49m_call_batch_end_hook(mode, batch, logs)\n\u001b[0;32m    323\u001b[0m \u001b[39melse\u001b[39;00m:\n\u001b[0;32m    324\u001b[0m     \u001b[39mraise\u001b[39;00m \u001b[39mValueError\u001b[39;00m(\n\u001b[0;32m    325\u001b[0m         \u001b[39mf\u001b[39m\u001b[39m\"\u001b[39m\u001b[39mUnrecognized hook: \u001b[39m\u001b[39m{\u001b[39;00mhook\u001b[39m}\u001b[39;00m\u001b[39m. \u001b[39m\u001b[39m\"\u001b[39m\n\u001b[0;32m    326\u001b[0m         \u001b[39m'\u001b[39m\u001b[39mExpected values are [\u001b[39m\u001b[39m\"\u001b[39m\u001b[39mbegin\u001b[39m\u001b[39m\"\u001b[39m\u001b[39m, \u001b[39m\u001b[39m\"\u001b[39m\u001b[39mend\u001b[39m\u001b[39m\"\u001b[39m\u001b[39m]\u001b[39m\u001b[39m'\u001b[39m\n\u001b[0;32m    327\u001b[0m     )\n",
      "File \u001b[1;32mc:\\Users\\Himasha\\AppData\\Local\\Programs\\Python\\Python311\\Lib\\site-packages\\keras\\callbacks.py:345\u001b[0m, in \u001b[0;36mCallbackList._call_batch_end_hook\u001b[1;34m(self, mode, batch, logs)\u001b[0m\n\u001b[0;32m    342\u001b[0m     batch_time \u001b[39m=\u001b[39m time\u001b[39m.\u001b[39mtime() \u001b[39m-\u001b[39m \u001b[39mself\u001b[39m\u001b[39m.\u001b[39m_batch_start_time\n\u001b[0;32m    343\u001b[0m     \u001b[39mself\u001b[39m\u001b[39m.\u001b[39m_batch_times\u001b[39m.\u001b[39mappend(batch_time)\n\u001b[1;32m--> 345\u001b[0m \u001b[39mself\u001b[39;49m\u001b[39m.\u001b[39;49m_call_batch_hook_helper(hook_name, batch, logs)\n\u001b[0;32m    347\u001b[0m \u001b[39mif\u001b[39;00m \u001b[39mlen\u001b[39m(\u001b[39mself\u001b[39m\u001b[39m.\u001b[39m_batch_times) \u001b[39m>\u001b[39m\u001b[39m=\u001b[39m \u001b[39mself\u001b[39m\u001b[39m.\u001b[39m_num_batches_for_timing_check:\n\u001b[0;32m    348\u001b[0m     end_hook_name \u001b[39m=\u001b[39m hook_name\n",
      "File \u001b[1;32mc:\\Users\\Himasha\\AppData\\Local\\Programs\\Python\\Python311\\Lib\\site-packages\\keras\\callbacks.py:393\u001b[0m, in \u001b[0;36mCallbackList._call_batch_hook_helper\u001b[1;34m(self, hook_name, batch, logs)\u001b[0m\n\u001b[0;32m    391\u001b[0m \u001b[39mfor\u001b[39;00m callback \u001b[39min\u001b[39;00m \u001b[39mself\u001b[39m\u001b[39m.\u001b[39mcallbacks:\n\u001b[0;32m    392\u001b[0m     hook \u001b[39m=\u001b[39m \u001b[39mgetattr\u001b[39m(callback, hook_name)\n\u001b[1;32m--> 393\u001b[0m     hook(batch, logs)\n\u001b[0;32m    395\u001b[0m \u001b[39mif\u001b[39;00m \u001b[39mself\u001b[39m\u001b[39m.\u001b[39m_check_timing:\n\u001b[0;32m    396\u001b[0m     \u001b[39mif\u001b[39;00m hook_name \u001b[39mnot\u001b[39;00m \u001b[39min\u001b[39;00m \u001b[39mself\u001b[39m\u001b[39m.\u001b[39m_hook_times:\n",
      "File \u001b[1;32mc:\\Users\\Himasha\\AppData\\Local\\Programs\\Python\\Python311\\Lib\\site-packages\\keras\\callbacks.py:1093\u001b[0m, in \u001b[0;36mProgbarLogger.on_train_batch_end\u001b[1;34m(self, batch, logs)\u001b[0m\n\u001b[0;32m   1092\u001b[0m \u001b[39mdef\u001b[39;00m \u001b[39mon_train_batch_end\u001b[39m(\u001b[39mself\u001b[39m, batch, logs\u001b[39m=\u001b[39m\u001b[39mNone\u001b[39;00m):\n\u001b[1;32m-> 1093\u001b[0m     \u001b[39mself\u001b[39;49m\u001b[39m.\u001b[39;49m_batch_update_progbar(batch, logs)\n",
      "File \u001b[1;32mc:\\Users\\Himasha\\AppData\\Local\\Programs\\Python\\Python311\\Lib\\site-packages\\keras\\callbacks.py:1170\u001b[0m, in \u001b[0;36mProgbarLogger._batch_update_progbar\u001b[1;34m(self, batch, logs)\u001b[0m\n\u001b[0;32m   1167\u001b[0m \u001b[39mif\u001b[39;00m \u001b[39mself\u001b[39m\u001b[39m.\u001b[39mverbose \u001b[39m==\u001b[39m \u001b[39m1\u001b[39m:\n\u001b[0;32m   1168\u001b[0m     \u001b[39m# Only block async when verbose = 1.\u001b[39;00m\n\u001b[0;32m   1169\u001b[0m     logs \u001b[39m=\u001b[39m tf_utils\u001b[39m.\u001b[39msync_to_numpy_or_python_type(logs)\n\u001b[1;32m-> 1170\u001b[0m     \u001b[39mself\u001b[39;49m\u001b[39m.\u001b[39;49mprogbar\u001b[39m.\u001b[39;49mupdate(\u001b[39mself\u001b[39;49m\u001b[39m.\u001b[39;49mseen, \u001b[39mlist\u001b[39;49m(logs\u001b[39m.\u001b[39;49mitems()), finalize\u001b[39m=\u001b[39;49m\u001b[39mFalse\u001b[39;49;00m)\n",
      "File \u001b[1;32mc:\\Users\\Himasha\\AppData\\Local\\Programs\\Python\\Python311\\Lib\\site-packages\\keras\\utils\\generic_utils.py:296\u001b[0m, in \u001b[0;36mProgbar.update\u001b[1;34m(self, current, values, finalize)\u001b[0m\n\u001b[0;32m    293\u001b[0m         info \u001b[39m+\u001b[39m\u001b[39m=\u001b[39m \u001b[39m\"\u001b[39m\u001b[39m\\n\u001b[39;00m\u001b[39m\"\u001b[39m\n\u001b[0;32m    295\u001b[0m     message \u001b[39m+\u001b[39m\u001b[39m=\u001b[39m info\n\u001b[1;32m--> 296\u001b[0m     io_utils\u001b[39m.\u001b[39;49mprint_msg(message, line_break\u001b[39m=\u001b[39;49m\u001b[39mFalse\u001b[39;49;00m)\n\u001b[0;32m    297\u001b[0m     message \u001b[39m=\u001b[39m \u001b[39m\"\u001b[39m\u001b[39m\"\u001b[39m\n\u001b[0;32m    299\u001b[0m \u001b[39melif\u001b[39;00m \u001b[39mself\u001b[39m\u001b[39m.\u001b[39mverbose \u001b[39m==\u001b[39m \u001b[39m2\u001b[39m:\n",
      "File \u001b[1;32mc:\\Users\\Himasha\\AppData\\Local\\Programs\\Python\\Python311\\Lib\\site-packages\\keras\\utils\\io_utils.py:79\u001b[0m, in \u001b[0;36mprint_msg\u001b[1;34m(message, line_break)\u001b[0m\n\u001b[0;32m     77\u001b[0m         sys\u001b[39m.\u001b[39mstdout\u001b[39m.\u001b[39mwrite(message \u001b[39m+\u001b[39m \u001b[39m\"\u001b[39m\u001b[39m\\n\u001b[39;00m\u001b[39m\"\u001b[39m)\n\u001b[0;32m     78\u001b[0m     \u001b[39melse\u001b[39;00m:\n\u001b[1;32m---> 79\u001b[0m         sys\u001b[39m.\u001b[39;49mstdout\u001b[39m.\u001b[39;49mwrite(message)\n\u001b[0;32m     80\u001b[0m     sys\u001b[39m.\u001b[39mstdout\u001b[39m.\u001b[39mflush()\n\u001b[0;32m     81\u001b[0m \u001b[39melse\u001b[39;00m:\n",
      "File \u001b[1;32m~\\AppData\\Roaming\\Python\\Python311\\site-packages\\ipykernel\\iostream.py:574\u001b[0m, in \u001b[0;36mOutStream.write\u001b[1;34m(self, string)\u001b[0m\n\u001b[0;32m    572\u001b[0m         \u001b[39mself\u001b[39m\u001b[39m.\u001b[39mpub_thread\u001b[39m.\u001b[39mschedule(\u001b[39mself\u001b[39m\u001b[39m.\u001b[39m_flush)\n\u001b[0;32m    573\u001b[0m     \u001b[39melse\u001b[39;00m:\n\u001b[1;32m--> 574\u001b[0m         \u001b[39mself\u001b[39;49m\u001b[39m.\u001b[39;49m_schedule_flush()\n\u001b[0;32m    576\u001b[0m \u001b[39mreturn\u001b[39;00m \u001b[39mlen\u001b[39m(string)\n",
      "File \u001b[1;32m~\\AppData\\Roaming\\Python\\Python311\\site-packages\\ipykernel\\iostream.py:478\u001b[0m, in \u001b[0;36mOutStream._schedule_flush\u001b[1;34m(self)\u001b[0m\n\u001b[0;32m    475\u001b[0m \u001b[39mdef\u001b[39;00m \u001b[39m_schedule_in_thread\u001b[39m():\n\u001b[0;32m    476\u001b[0m     \u001b[39mself\u001b[39m\u001b[39m.\u001b[39m_io_loop\u001b[39m.\u001b[39mcall_later(\u001b[39mself\u001b[39m\u001b[39m.\u001b[39mflush_interval, \u001b[39mself\u001b[39m\u001b[39m.\u001b[39m_flush)\n\u001b[1;32m--> 478\u001b[0m \u001b[39mself\u001b[39;49m\u001b[39m.\u001b[39;49mpub_thread\u001b[39m.\u001b[39;49mschedule(_schedule_in_thread)\n",
      "File \u001b[1;32m~\\AppData\\Roaming\\Python\\Python311\\site-packages\\ipykernel\\iostream.py:211\u001b[0m, in \u001b[0;36mIOPubThread.schedule\u001b[1;34m(self, f)\u001b[0m\n\u001b[0;32m    209\u001b[0m     \u001b[39mself\u001b[39m\u001b[39m.\u001b[39m_events\u001b[39m.\u001b[39mappend(f)\n\u001b[0;32m    210\u001b[0m     \u001b[39m# wake event thread (message content is ignored)\u001b[39;00m\n\u001b[1;32m--> 211\u001b[0m     \u001b[39mself\u001b[39;49m\u001b[39m.\u001b[39;49m_event_pipe\u001b[39m.\u001b[39;49msend(\u001b[39mb\u001b[39;49m\u001b[39m\"\u001b[39;49m\u001b[39m\"\u001b[39;49m)\n\u001b[0;32m    212\u001b[0m \u001b[39melse\u001b[39;00m:\n\u001b[0;32m    213\u001b[0m     f()\n",
      "File \u001b[1;32m~\\AppData\\Roaming\\Python\\Python311\\site-packages\\zmq\\sugar\\socket.py:688\u001b[0m, in \u001b[0;36mSocket.send\u001b[1;34m(self, data, flags, copy, track, routing_id, group)\u001b[0m\n\u001b[0;32m    681\u001b[0m         data \u001b[39m=\u001b[39m zmq\u001b[39m.\u001b[39mFrame(\n\u001b[0;32m    682\u001b[0m             data,\n\u001b[0;32m    683\u001b[0m             track\u001b[39m=\u001b[39mtrack,\n\u001b[0;32m    684\u001b[0m             copy\u001b[39m=\u001b[39mcopy \u001b[39mor\u001b[39;00m \u001b[39mNone\u001b[39;00m,\n\u001b[0;32m    685\u001b[0m             copy_threshold\u001b[39m=\u001b[39m\u001b[39mself\u001b[39m\u001b[39m.\u001b[39mcopy_threshold,\n\u001b[0;32m    686\u001b[0m         )\n\u001b[0;32m    687\u001b[0m     data\u001b[39m.\u001b[39mgroup \u001b[39m=\u001b[39m group\n\u001b[1;32m--> 688\u001b[0m \u001b[39mreturn\u001b[39;00m \u001b[39msuper\u001b[39;49m()\u001b[39m.\u001b[39;49msend(data, flags\u001b[39m=\u001b[39;49mflags, copy\u001b[39m=\u001b[39;49mcopy, track\u001b[39m=\u001b[39;49mtrack)\n",
      "File \u001b[1;32mzmq\\backend\\cython\\socket.pyx:742\u001b[0m, in \u001b[0;36mzmq.backend.cython.socket.Socket.send\u001b[1;34m()\u001b[0m\n",
      "File \u001b[1;32mzmq\\backend\\cython\\socket.pyx:789\u001b[0m, in \u001b[0;36mzmq.backend.cython.socket.Socket.send\u001b[1;34m()\u001b[0m\n",
      "File \u001b[1;32mzmq\\backend\\cython\\socket.pyx:250\u001b[0m, in \u001b[0;36mzmq.backend.cython.socket._send_copy\u001b[1;34m()\u001b[0m\n",
      "File \u001b[1;32m~\\AppData\\Roaming\\Python\\Python311\\site-packages\\zmq\\backend\\cython\\checkrc.pxd:13\u001b[0m, in \u001b[0;36mzmq.backend.cython.checkrc._check_rc\u001b[1;34m()\u001b[0m\n",
      "\u001b[1;31mKeyboardInterrupt\u001b[0m: "
     ]
    }
   ],
   "source": [
    "history = model.fit(\n",
    "    [train_input_ids, train_attention_masks],\n",
    "    y,\n",
    "    validation_split=0.2, \n",
    "    epochs=3,\n",
    "    batch_size=10\n",
    ")"
   ]
  },
  {
   "cell_type": "code",
   "execution_count": null,
   "id": "8a8bd011",
   "metadata": {
    "execution": {
     "iopub.execute_input": "2023-04-16T07:10:55.894815Z",
     "iopub.status.busy": "2023-04-16T07:10:55.894448Z",
     "iopub.status.idle": "2023-04-16T07:10:55.902311Z",
     "shell.execute_reply": "2023-04-16T07:10:55.901006Z"
    },
    "id": "xUi7Tz8T0EdF",
    "papermill": {
     "duration": 0.101507,
     "end_time": "2023-04-16T07:10:55.904764",
     "exception": false,
     "start_time": "2023-04-16T07:10:55.803257",
     "status": "completed"
    },
    "tags": []
   },
   "outputs": [],
   "source": [
    "def plot_learning_curves(history, arr):\n",
    "    \"\"\"\n",
    "    Plots the training and validation metrics from a Keras history object.\n",
    "    history: Keras history object\n",
    "    metrics: list of lists of strings. Each inner list contains the names of the\n",
    "             metrics to plot on the same graph.\n",
    "    \"\"\"\n",
    "    fig, ax = plt.subplots(1, 2, figsize=(20, 5))\n",
    "    for idx in range(2):\n",
    "        ax[idx].plot(history.history[arr[idx][0]])\n",
    "        ax[idx].plot(history.history[arr[idx][1]])\n",
    "        ax[idx].legend([arr[idx][0], arr[idx][1]],fontsize=18)\n",
    "        ax[idx].set_xlabel('A ',fontsize=16)\n",
    "        ax[idx].set_ylabel('B',fontsize=16)\n",
    "        ax[idx].set_title(arr[idx][0] + ' X ' + arr[idx][1],fontsize=16)"
   ]
  },
  {
   "cell_type": "code",
   "execution_count": null,
   "id": "ca26ad98",
   "metadata": {
    "execution": {
     "iopub.execute_input": "2023-04-16T07:10:56.085007Z",
     "iopub.status.busy": "2023-04-16T07:10:56.084663Z",
     "iopub.status.idle": "2023-04-16T07:10:56.541201Z",
     "shell.execute_reply": "2023-04-16T07:10:56.540204Z"
    },
    "id": "sSfF28h0yXDv",
    "outputId": "6de76cd5-a759-40d9-e482-ccee271c03e5",
    "papermill": {
     "duration": 0.549089,
     "end_time": "2023-04-16T07:10:56.543438",
     "exception": false,
     "start_time": "2023-04-16T07:10:55.994349",
     "status": "completed"
    },
    "tags": []
   },
   "outputs": [
    {
     "data": {
      "image/png": "[encoded data removed]",
      "text/plain": [
       "<Figure size 2000x500 with 2 Axes>"
      ]
     },
     "metadata": {},
     "output_type": "display_data"
    }
   ],
   "source": [
    "plot_learning_curves(history, [['loss', 'val_loss'], ['accuracy', 'val_accuracy']])"
   ]
  },
  {
   "attachments": {},
   "cell_type": "markdown",
   "id": "8b2e8790",
   "metadata": {
    "id": "hjoPwnf4vsOj",
    "papermill": {
     "duration": 0.090079,
     "end_time": "2023-04-16T07:10:56.726645",
     "exception": false,
     "start_time": "2023-04-16T07:10:56.636566",
     "status": "completed"
    },
    "tags": []
   },
   "source": [
    "## ML ALGOS"
   ]
  },
  {
   "cell_type": "code",
   "execution_count": null,
   "id": "4b5ba94f",
   "metadata": {
    "execution": {
     "iopub.execute_input": "2023-04-16T07:10:56.980108Z",
     "iopub.status.busy": "2023-04-16T07:10:56.979112Z",
     "iopub.status.idle": "2023-04-16T07:10:56.984808Z",
     "shell.execute_reply": "2023-04-16T07:10:56.983578Z"
    },
    "id": "t4dbnxtv0sGU",
    "papermill": {
     "duration": 0.167819,
     "end_time": "2023-04-16T07:10:56.987237",
     "exception": false,
     "start_time": "2023-04-16T07:10:56.819418",
     "status": "completed"
    },
    "tags": []
   },
   "outputs": [],
   "source": [
    "tfimail_data = Tfimail_dataVectorizer(max_features=3000)"
   ]
  },
  {
   "cell_type": "code",
   "execution_count": null,
   "id": "4b46cb37",
   "metadata": {
    "execution": {
     "iopub.execute_input": "2023-04-16T07:10:57.172069Z",
     "iopub.status.busy": "2023-04-16T07:10:57.171016Z",
     "iopub.status.idle": "2023-04-16T07:10:57.333429Z",
     "shell.execute_reply": "2023-04-16T07:10:57.332214Z"
    },
    "id": "PwOnOQez1f58",
    "papermill": {
     "duration": 0.256975,
     "end_time": "2023-04-16T07:10:57.336203",
     "exception": false,
     "start_time": "2023-04-16T07:10:57.079228",
     "status": "completed"
    },
    "tags": []
   },
   "outputs": [],
   "source": [
    "X = tfimail_data.fit_transform(mail_data['clean_text']).toarray()\n",
    "y = mail_data['target'].values"
   ]
  },
  {
   "cell_type": "code",
   "execution_count": null,
   "id": "75e2db65",
   "metadata": {
    "execution": {
     "iopub.execute_input": "2023-04-16T07:10:57.524834Z",
     "iopub.status.busy": "2023-04-16T07:10:57.524445Z",
     "iopub.status.idle": "2023-04-16T07:10:57.584733Z",
     "shell.execute_reply": "2023-04-16T07:10:57.583607Z"
    },
    "id": "6OWGuO6z1k2e",
    "papermill": {
     "duration": 0.157767,
     "end_time": "2023-04-16T07:10:57.587426",
     "exception": false,
     "start_time": "2023-04-16T07:10:57.429659",
     "status": "completed"
    },
    "tags": []
   },
   "outputs": [],
   "source": [
    "X_train,X_test,y_train,y_test = train_test_split(X,y,test_size=0.2,random_state=42)"
   ]
  },
  {
   "cell_type": "code",
   "execution_count": null,
   "id": "c499d96e",
   "metadata": {
    "execution": {
     "iopub.execute_input": "2023-04-16T07:10:57.773779Z",
     "iopub.status.busy": "2023-04-16T07:10:57.773099Z",
     "iopub.status.idle": "2023-04-16T09:00:34.880971Z",
     "shell.execute_reply": "2023-04-16T09:00:34.878243Z"
    },
    "id": "CLOoLuh54cd6",
    "outputId": "7cb994ac-b55e-480b-b9d1-c899b934ece0",
    "papermill": {
     "duration": 6577.301858,
     "end_time": "2023-04-16T09:00:34.981873",
     "exception": false,
     "start_time": "2023-04-16T07:10:57.680015",
     "status": "completed"
    },
    "tags": []
   },
   "outputs": [
    {
     "name": "stderr",
     "output_type": "stream",
     "text": [
      "/opt/conda/lib/python3.7/site-packages/sklearn/model_selection/_search.py:296: UserWarning: The total space of parameters 1 is smaller than n_iter=10. Running 1 iterations. For exhaustive searches, use GridSearchCV.\n",
      "  UserWarning,\n",
      "/opt/conda/lib/python3.7/site-packages/sklearn/model_selection/_search.py:296: UserWarning: The total space of parameters 2 is smaller than n_iter=10. Running 2 iterations. For exhaustive searches, use GridSearchCV.\n",
      "  UserWarning,\n",
      "/opt/conda/lib/python3.7/site-packages/sklearn/model_selection/_search.py:296: UserWarning: The total space of parameters 1 is smaller than n_iter=10. Running 1 iterations. For exhaustive searches, use GridSearchCV.\n",
      "  UserWarning,\n",
      "/opt/conda/lib/python3.7/site-packages/sklearn/model_selection/_search.py:296: UserWarning: The total space of parameters 1 is smaller than n_iter=10. Running 1 iterations. For exhaustive searches, use GridSearchCV.\n",
      "  UserWarning,\n",
      "/opt/conda/lib/python3.7/site-packages/sklearn/model_selection/_search.py:296: UserWarning: The total space of parameters 1 is smaller than n_iter=10. Running 1 iterations. For exhaustive searches, use GridSearchCV.\n",
      "  UserWarning,\n",
      "/opt/conda/lib/python3.7/site-packages/sklearn/model_selection/_search.py:296: UserWarning: The total space of parameters 1 is smaller than n_iter=10. Running 1 iterations. For exhaustive searches, use GridSearchCV.\n",
      "  UserWarning,\n",
      "/opt/conda/lib/python3.7/site-packages/sklearn/model_selection/_search.py:296: UserWarning: The total space of parameters 1 is smaller than n_iter=10. Running 1 iterations. For exhaustive searches, use GridSearchCV.\n",
      "  UserWarning,\n"
     ]
    },
    {
     "data": {
      "text/html": [
       "<div>\n",
       "<style scoped>\n",
       "    .dataframe tbody tr th:only-of-type {\n",
       "        vertical-align: middle;\n",
       "    }\n",
       "\n",
       "    .dataframe tbody tr th {\n",
       "        vertical-align: top;\n",
       "    }\n",
       "\n",
       "    .dataframe thead th {\n",
       "        text-align: right;\n",
       "    }\n",
       "</style>\n",
       "<table border=\"1\" class=\"dataframe\">\n",
       "  <thead>\n",
       "    <tr style=\"text-align: right;\">\n",
       "      <th></th>\n",
       "      <th>model</th>\n",
       "      <th>best_score</th>\n",
       "      <th>best_params</th>\n",
       "    </tr>\n",
       "  </thead>\n",
       "  <tbody>\n",
       "    <tr>\n",
       "      <th>0</th>\n",
       "      <td>random_forest</td>\n",
       "      <td>0.965659</td>\n",
       "      <td>{'randomforestclassifier__n_estimators': 10}</td>\n",
       "    </tr>\n",
       "    <tr>\n",
       "      <th>1</th>\n",
       "      <td>logistic_regression</td>\n",
       "      <td>0.975816</td>\n",
       "      <td>{'logisticregression__C': 5}</td>\n",
       "    </tr>\n",
       "    <tr>\n",
       "      <th>2</th>\n",
       "      <td>catboost</td>\n",
       "      <td>0.921403</td>\n",
       "      <td>{'catboostclassifier__learning_rate': 0.01, 'c...</td>\n",
       "    </tr>\n",
       "    <tr>\n",
       "      <th>3</th>\n",
       "      <td>xgboost</td>\n",
       "      <td>0.932044</td>\n",
       "      <td>{'xgbclassifier__n_estimators': 50, 'xgbclassi...</td>\n",
       "    </tr>\n",
       "    <tr>\n",
       "      <th>4</th>\n",
       "      <td>gaussian_nb</td>\n",
       "      <td>0.862636</td>\n",
       "      <td>{}</td>\n",
       "    </tr>\n",
       "    <tr>\n",
       "      <th>5</th>\n",
       "      <td>multinomial_nb</td>\n",
       "      <td>0.976542</td>\n",
       "      <td>{}</td>\n",
       "    </tr>\n",
       "    <tr>\n",
       "      <th>6</th>\n",
       "      <td>bernoulli_nb</td>\n",
       "      <td>0.975816</td>\n",
       "      <td>{}</td>\n",
       "    </tr>\n",
       "    <tr>\n",
       "      <th>7</th>\n",
       "      <td>stacking_model</td>\n",
       "      <td>0.976784</td>\n",
       "      <td>{'stackingclassifier__svc__kernel': 'linear', ...</td>\n",
       "    </tr>\n",
       "  </tbody>\n",
       "</table>\n",
       "</div>"
      ],
      "text/plain": [
       "                 model  best_score  \\\n",
       "0        random_forest    0.965659   \n",
       "1  logistic_regression    0.975816   \n",
       "2             catboost    0.921403   \n",
       "3              xgboost    0.932044   \n",
       "4          gaussian_nb    0.862636   \n",
       "5       multinomial_nb    0.976542   \n",
       "6         bernoulli_nb    0.975816   \n",
       "7       stacking_model    0.976784   \n",
       "\n",
       "                                         best_params  \n",
       "0       {'randomforestclassifier__n_estimators': 10}  \n",
       "1                       {'logisticregression__C': 5}  \n",
       "2  {'catboostclassifier__learning_rate': 0.01, 'c...  \n",
       "3  {'xgbclassifier__n_estimators': 50, 'xgbclassi...  \n",
       "4                                                 {}  \n",
       "5                                                 {}  \n",
       "6                                                 {}  \n",
       "7  {'stackingclassifier__svc__kernel': 'linear', ...  "
      ]
     },
     "execution_count": 40,
     "metadata": {},
     "output_type": "execute_result"
    }
   ],
   "source": [
    "model_params = {\n",
    "    'random_forest': {\n",
    "        'model': RandomForestClassifier(),\n",
    "        'params' : {\n",
    "            'randomforestclassifier__n_estimators': [10]\n",
    "        }\n",
    "    },\n",
    "    'logistic_regression': {\n",
    "        'model': LogisticRegression(solver='liblinear', multi_class='auto'),\n",
    "        'params': {\n",
    "            'logisticregression__C': [1, 5]\n",
    "        }\n",
    "    },\n",
    "    'catboost': {\n",
    "        'model': CatBoostClassifier(verbose=False),\n",
    "        'params': {\n",
    "            'catboostclassifier__iterations': [20],\n",
    "            'catboostclassifier__learning_rate': [0.01],\n",
    "            'catboostclassifier__depth': [4]\n",
    "        }\n",
    "    },\n",
    "    'xgboost': {\n",
    "        'model': XGBClassifier(),\n",
    "        'params': {\n",
    "            'xgbclassifier__n_estimators': [50],\n",
    "            'xgbclassifier__max_depth': [4],\n",
    "            'xgbclassifier__learning_rate': [0.01],\n",
    "            'xgbclassifier__booster': ['gbtree']\n",
    "        }\n",
    "    },\n",
    "    'gaussian_nb': {\n",
    "        'model': GaussianNB(),\n",
    "        'params': {}\n",
    "    },\n",
    "    'multinomial_nb': {\n",
    "        'model': MultinomialNB(),\n",
    "        'params': {}\n",
    "    },\n",
    "    'bernoulli_nb': {\n",
    "        'model': BernoulliNB(),\n",
    "        'params': {}\n",
    "    },\n",
    "\n",
    "    'stacking_model': {\n",
    "        'model': StackingClassifier(\n",
    "            estimators=[\n",
    "                ('svc', SVC(kernel='linear', C=1, probability=True)),\n",
    "                ('rf', RandomForestClassifier(n_estimators=10, random_state=42))\n",
    "            ],\n",
    "            final_estimator=LogisticRegression()\n",
    "        ),\n",
    "        'params': {\n",
    "            'stackingclassifier__svc__kernel': ['rbf', 'linear'],\n",
    "            'stackingclassifier__svc__C': [1, 10],\n",
    "            'stackingclassifier__rf__n_estimators': [1, 5],\n",
    "            'stackingclassifier__final_estimator__C': [1, 5]\n",
    "        }\n",
    "    }\n",
    "}\n",
    "\n",
    "# Run a grid search to find the best hyperparameters for each model\n",
    "best_scores = []\n",
    "best_estimators = {}\n",
    "kfold = KFold(n_splits=5, shuffle=True, random_state=42)\n",
    "\n",
    "\n",
    "for algo, mp in model_params.items():\n",
    "    pipe = make_pipeline(MinMaxScaler(), mp['model'])\n",
    "    clf =  RandomizedSearchCV(pipe, mp['params'], cv=kfold, return_train_score=False)\n",
    "    clf.fit(X_train, y_train)\n",
    "    best_scores.append({\n",
    "        'model': algo,\n",
    "        'best_score': clf.best_score_,\n",
    "        'best_params': clf.best_params_\n",
    "    })\n",
    "    best_estimators[algo] = clf.best_estimator_\n",
    "    \n",
    "mail_data = pd.DataFrame(best_scores,columns=['model','best_score','best_params'])\n",
    "mail_data"
   ]
  },
  {
   "cell_type": "code",
   "execution_count": null,
   "id": "f936938e",
   "metadata": {
    "execution": {
     "iopub.execute_input": "2023-04-16T09:00:35.169060Z",
     "iopub.status.busy": "2023-04-16T09:00:35.168677Z",
     "iopub.status.idle": "2023-04-16T09:00:37.549412Z",
     "shell.execute_reply": "2023-04-16T09:00:37.548456Z"
    },
    "id": "ZHoYWO89abFF",
    "outputId": "67ac4662-e4aa-45a3-bd80-427eb12f256e",
    "papermill": {
     "duration": 2.47907,
     "end_time": "2023-04-16T09:00:37.552278",
     "exception": false,
     "start_time": "2023-04-16T09:00:35.073208",
     "status": "completed"
    },
    "tags": []
   },
   "outputs": [
    {
     "name": "stdout",
     "output_type": "stream",
     "text": [
      "Evaluating random_forest...\n",
      "Test score: 0.9671179883945842\n",
      "\n",
      "Evaluating logistic_regression...\n",
      "Test score: 0.9796905222437138\n",
      "\n",
      "Evaluating catboost...\n",
      "Test score: 0.9003868471953579\n",
      "\n",
      "Evaluating xgboost...\n",
      "Test score: 0.9264990328820116\n",
      "\n",
      "Evaluating gaussian_nb...\n",
      "Test score: 0.8520309477756286\n",
      "\n",
      "Evaluating multinomial_nb...\n",
      "Test score: 0.9758220502901354\n",
      "\n",
      "Evaluating bernoulli_nb...\n",
      "Test score: 0.9738878143133463\n",
      "\n",
      "Evaluating stacking_model...\n",
      "Test score: 0.9796905222437138\n",
      "\n"
     ]
    }
   ],
   "source": [
    "for algo, estimator in best_estimators.items():\n",
    "    print(f\"Evaluating {algo}...\")\n",
    "    score = estimator.score(X_test, y_test)\n",
    "    print(f\"Test score: {score}\\n\")"
   ]
  }
 ],
 "metadata": {
  "kernelspec": {
   "display_name": "Python 3",
   "language": "python",
   "name": "python3"
  },
  "language_info": {
   "codemirror_mode": {
    "name": "ipython",
    "version": 3
   },
   "file_extension": ".py",
   "mimetype": "text/x-python",
   "name": "python",
   "nbconvert_exporter": "python",
   "pygments_lexer": "ipython3",
   "version": "3.11.1"
  },
  "papermill": {
   "default_parameters": {},
   "duration": 6884.129311,
   "end_time": "2023-04-16T09:00:41.763784",
   "environment_variables": {},
   "exception": null,
   "input_path": "__notebook__.ipynb",
   "output_path": "__notebook__.ipynb",
   "parameters": {},
   "start_time": "2023-04-16T07:05:57.634473",
   "version": "2.4.0"
  },
  "widgets": {
   "application/vnd.jupyter.widget-state+json": {
    "state": {
     "054b303f627149898b8f3630e0a2c751": {
      "model_module": "@jupyter-widgets/base",
      "model_module_version": "1.2.0",
      "model_name": "LayoutModel",
      "state": {
       "_model_module": "@jupyter-widgets/base",
       "_model_module_version": "1.2.0",
       "_model_name": "LayoutModel",
       "_view_count": null,
       "_view_module": "@jupyter-widgets/base",
       "_view_module_version": "1.2.0",
       "_view_name": "LayoutView",
       "align_content": null,
       "align_items": null,
       "align_self": null,
       "border": null,
       "bottom": null,
       "display": null,
       "flex": null,
       "flex_flow": null,
       "grid_area": null,
       "grid_auto_columns": null,
       "grid_auto_flow": null,
       "grid_auto_rows": null,
       "grid_column": null,
       "grid_gap": null,
       "grid_row": null,
       "grid_template_areas": null,
       "grid_template_columns": null,
       "grid_template_rows": null,
       "height": null,
       "justify_content": null,
       "justify_items": null,
       "left": null,
       "margin": null,
       "max_height": null,
       "max_width": null,
       "min_height": null,
       "min_width": null,
       "object_fit": null,
       "object_position": null,
       "order": null,
       "overflow": null,
       "overflow_x": null,
       "overflow_y": null,
       "padding": null,
       "right": null,
       "top": null,
       "visibility": null,
       "width": null
      }
     },
     "0a344401d35f48a98a71675d9a853b0d": {
      "model_module": "@jupyter-widgets/controls",
      "model_module_version": "1.5.0",
      "model_name": "DescriptionStyleModel",
      "state": {
       "_model_module": "@jupyter-widgets/controls",
       "_model_module_version": "1.5.0",
       "_model_name": "DescriptionStyleModel",
       "_view_count": null,
       "_view_module": "@jupyter-widgets/base",
       "_view_module_version": "1.2.0",
       "_view_name": "StyleView",
       "description_width": ""
      }
     },
     "0c0d1f44b221418b9bf5aed71b6d15ad": {
      "model_module": "@jupyter-widgets/base",
      "model_module_version": "1.2.0",
      "model_name": "LayoutModel",
      "state": {
       "_model_module": "@jupyter-widgets/base",
       "_model_module_version": "1.2.0",
       "_model_name": "LayoutModel",
       "_view_count": null,
       "_view_module": "@jupyter-widgets/base",
       "_view_module_version": "1.2.0",
       "_view_name": "LayoutView",
       "align_content": null,
       "align_items": null,
       "align_self": null,
       "border": null,
       "bottom": null,
       "display": null,
       "flex": null,
       "flex_flow": null,
       "grid_area": null,
       "grid_auto_columns": null,
       "grid_auto_flow": null,
       "grid_auto_rows": null,
       "grid_column": null,
       "grid_gap": null,
       "grid_row": null,
       "grid_template_areas": null,
       "grid_template_columns": null,
       "grid_template_rows": null,
       "height": null,
       "justify_content": null,
       "justify_items": null,
       "left": null,
       "margin": null,
       "max_height": null,
       "max_width": null,
       "min_height": null,
       "min_width": null,
       "object_fit": null,
       "object_position": null,
       "order": null,
       "overflow": null,
       "overflow_x": null,
       "overflow_y": null,
       "padding": null,
       "right": null,
       "top": null,
       "visibility": null,
       "width": null
      }
     },
     "0efc4bf9c65642d1a58ef2eac1cdd570": {
      "model_module": "@jupyter-widgets/controls",
      "model_module_version": "1.5.0",
      "model_name": "DescriptionStyleModel",
      "state": {
       "_model_module": "@jupyter-widgets/controls",
       "_model_module_version": "1.5.0",
       "_model_name": "DescriptionStyleModel",
       "_view_count": null,
       "_view_module": "@jupyter-widgets/base",
       "_view_module_version": "1.2.0",
       "_view_name": "StyleView",
       "description_width": ""
      }
     },
     "12ea28dc143d4c95911ddf6afffcc4ab": {
      "model_module": "@jupyter-widgets/controls",
      "model_module_version": "1.5.0",
      "model_name": "DescriptionStyleModel",
      "state": {
       "_model_module": "@jupyter-widgets/controls",
       "_model_module_version": "1.5.0",
       "_model_name": "DescriptionStyleModel",
       "_view_count": null,
       "_view_module": "@jupyter-widgets/base",
       "_view_module_version": "1.2.0",
       "_view_name": "StyleView",
       "description_width": ""
      }
     },
     "15c9af5644314ddd927972d6f2d47218": {
      "model_module": "@jupyter-widgets/controls",
      "model_module_version": "1.5.0",
      "model_name": "DescriptionStyleModel",
      "state": {
       "_model_module": "@jupyter-widgets/controls",
       "_model_module_version": "1.5.0",
       "_model_name": "DescriptionStyleModel",
       "_view_count": null,
       "_view_module": "@jupyter-widgets/base",
       "_view_module_version": "1.2.0",
       "_view_name": "StyleView",
       "description_width": ""
      }
     },
     "1c779aacabd44bbaaffd89ff17d70008": {
      "model_module": "@jupyter-widgets/controls",
      "model_module_version": "1.5.0",
      "model_name": "ProgressStyleModel",
      "state": {
       "_model_module": "@jupyter-widgets/controls",
       "_model_module_version": "1.5.0",
       "_model_name": "ProgressStyleModel",
       "_view_count": null,
       "_view_module": "@jupyter-widgets/base",
       "_view_module_version": "1.2.0",
       "_view_name": "StyleView",
       "bar_color": null,
       "description_width": ""
      }
     },
     "1f156f7ddc1c416a8f9935928823a00c": {
      "model_module": "@jupyter-widgets/controls",
      "model_module_version": "1.5.0",
      "model_name": "HTMLModel",
      "state": {
       "_dom_classes": [],
       "_model_module": "@jupyter-widgets/controls",
       "_model_module_version": "1.5.0",
       "_model_name": "HTMLModel",
       "_view_count": null,
       "_view_module": "@jupyter-widgets/controls",
       "_view_module_version": "1.5.0",
       "_view_name": "HTMLView",
       "description": "",
       "description_tooltip": null,
       "layout": "IPY_MODEL_ff0e02ef0d4b4f5481c958196a1edc94",
       "placeholder": "​",
       "style": "IPY_MODEL_7b744ebed9c24acdaf59b414cc562ed8",
       "value": " 536M/536M [00:01&lt;00:00, 391MB/s]"
      }
     },
     "226032dd444f40858e766cf43bff2cc6": {
      "model_module": "@jupyter-widgets/base",
      "model_module_version": "1.2.0",
      "model_name": "LayoutModel",
      "state": {
       "_model_module": "@jupyter-widgets/base",
       "_model_module_version": "1.2.0",
       "_model_name": "LayoutModel",
       "_view_count": null,
       "_view_module": "@jupyter-widgets/base",
       "_view_module_version": "1.2.0",
       "_view_name": "LayoutView",
       "align_content": null,
       "align_items": null,
       "align_self": null,
       "border": null,
       "bottom": null,
       "display": null,
       "flex": null,
       "flex_flow": null,
       "grid_area": null,
       "grid_auto_columns": null,
       "grid_auto_flow": null,
       "grid_auto_rows": null,
       "grid_column": null,
       "grid_gap": null,
       "grid_row": null,
       "grid_template_areas": null,
       "grid_template_columns": null,
       "grid_template_rows": null,
       "height": null,
       "justify_content": null,
       "justify_items": null,
       "left": null,
       "margin": null,
       "max_height": null,
       "max_width": null,
       "min_height": null,
       "min_width": null,
       "object_fit": null,
       "object_position": null,
       "order": null,
       "overflow": null,
       "overflow_x": null,
       "overflow_y": null,
       "padding": null,
       "right": null,
       "top": null,
       "visibility": null,
       "width": null
      }
     },
     "23e24cc660cc4e63a2482d0e713856ba": {
      "model_module": "@jupyter-widgets/controls",
      "model_module_version": "1.5.0",
      "model_name": "DescriptionStyleModel",
      "state": {
       "_model_module": "@jupyter-widgets/controls",
       "_model_module_version": "1.5.0",
       "_model_name": "DescriptionStyleModel",
       "_view_count": null,
       "_view_module": "@jupyter-widgets/base",
       "_view_module_version": "1.2.0",
       "_view_name": "StyleView",
       "description_width": ""
      }
     },
     "2498a56c72294dd0b2b859458c5e4574": {
      "model_module": "@jupyter-widgets/controls",
      "model_module_version": "1.5.0",
      "model_name": "HTMLModel",
      "state": {
       "_dom_classes": [],
       "_model_module": "@jupyter-widgets/controls",
       "_model_module_version": "1.5.0",
       "_model_name": "HTMLModel",
       "_view_count": null,
       "_view_module": "@jupyter-widgets/controls",
       "_view_module_version": "1.5.0",
       "_view_name": "HTMLView",
       "description": "",
       "description_tooltip": null,
       "layout": "IPY_MODEL_77fc47600adb491dbe62203f934e3758",
       "placeholder": "​",
       "style": "IPY_MODEL_42280c7c16fe4fb689c8c6bdee87302a",
       "value": "Downloading (…)lve/main/config.json: 100%"
      }
     },
     "25b56c5814f643669c809360899043de": {
      "model_module": "@jupyter-widgets/base",
      "model_module_version": "1.2.0",
      "model_name": "LayoutModel",
      "state": {
       "_model_module": "@jupyter-widgets/base",
       "_model_module_version": "1.2.0",
       "_model_name": "LayoutModel",
       "_view_count": null,
       "_view_module": "@jupyter-widgets/base",
       "_view_module_version": "1.2.0",
       "_view_name": "LayoutView",
       "align_content": null,
       "align_items": null,
       "align_self": null,
       "border": null,
       "bottom": null,
       "display": null,
       "flex": null,
       "flex_flow": null,
       "grid_area": null,
       "grid_auto_columns": null,
       "grid_auto_flow": null,
       "grid_auto_rows": null,
       "grid_column": null,
       "grid_gap": null,
       "grid_row": null,
       "grid_template_areas": null,
       "grid_template_columns": null,
       "grid_template_rows": null,
       "height": null,
       "justify_content": null,
       "justify_items": null,
       "left": null,
       "margin": null,
       "max_height": null,
       "max_width": null,
       "min_height": null,
       "min_width": null,
       "object_fit": null,
       "object_position": null,
       "order": null,
       "overflow": null,
       "overflow_x": null,
       "overflow_y": null,
       "padding": null,
       "right": null,
       "top": null,
       "visibility": null,
       "width": null
      }
     },
     "29fd5c4f6d414eceb6ae6e319e84bd55": {
      "model_module": "@jupyter-widgets/base",
      "model_module_version": "1.2.0",
      "model_name": "LayoutModel",
      "state": {
       "_model_module": "@jupyter-widgets/base",
       "_model_module_version": "1.2.0",
       "_model_name": "LayoutModel",
       "_view_count": null,
       "_view_module": "@jupyter-widgets/base",
       "_view_module_version": "1.2.0",
       "_view_name": "LayoutView",
       "align_content": null,
       "align_items": null,
       "align_self": null,
       "border": null,
       "bottom": null,
       "display": null,
       "flex": null,
       "flex_flow": null,
       "grid_area": null,
       "grid_auto_columns": null,
       "grid_auto_flow": null,
       "grid_auto_rows": null,
       "grid_column": null,
       "grid_gap": null,
       "grid_row": null,
       "grid_template_areas": null,
       "grid_template_columns": null,
       "grid_template_rows": null,
       "height": null,
       "justify_content": null,
       "justify_items": null,
       "left": null,
       "margin": null,
       "max_height": null,
       "max_width": null,
       "min_height": null,
       "min_width": null,
       "object_fit": null,
       "object_position": null,
       "order": null,
       "overflow": null,
       "overflow_x": null,
       "overflow_y": null,
       "padding": null,
       "right": null,
       "top": null,
       "visibility": null,
       "width": null
      }
     },
     "2a099881d9b64cf7be52cb08e7f521b6": {
      "model_module": "@jupyter-widgets/base",
      "model_module_version": "1.2.0",
      "model_name": "LayoutModel",
      "state": {
       "_model_module": "@jupyter-widgets/base",
       "_model_module_version": "1.2.0",
       "_model_name": "LayoutModel",
       "_view_count": null,
       "_view_module": "@jupyter-widgets/base",
       "_view_module_version": "1.2.0",
       "_view_name": "LayoutView",
       "align_content": null,
       "align_items": null,
       "align_self": null,
       "border": null,
       "bottom": null,
       "display": null,
       "flex": null,
       "flex_flow": null,
       "grid_area": null,
       "grid_auto_columns": null,
       "grid_auto_flow": null,
       "grid_auto_rows": null,
       "grid_column": null,
       "grid_gap": null,
       "grid_row": null,
       "grid_template_areas": null,
       "grid_template_columns": null,
       "grid_template_rows": null,
       "height": null,
       "justify_content": null,
       "justify_items": null,
       "left": null,
       "margin": null,
       "max_height": null,
       "max_width": null,
       "min_height": null,
       "min_width": null,
       "object_fit": null,
       "object_position": null,
       "order": null,
       "overflow": null,
       "overflow_x": null,
       "overflow_y": null,
       "padding": null,
       "right": null,
       "top": null,
       "visibility": null,
       "width": null
      }
     },
     "2e735f1c77c54a709ef4c6f2487f6ffb": {
      "model_module": "@jupyter-widgets/controls",
      "model_module_version": "1.5.0",
      "model_name": "HBoxModel",
      "state": {
       "_dom_classes": [],
       "_model_module": "@jupyter-widgets/controls",
       "_model_module_version": "1.5.0",
       "_model_name": "HBoxModel",
       "_view_count": null,
       "_view_module": "@jupyter-widgets/controls",
       "_view_module_version": "1.5.0",
       "_view_name": "HBoxView",
       "box_style": "",
       "children": [
        "IPY_MODEL_2498a56c72294dd0b2b859458c5e4574",
        "IPY_MODEL_863bb6b6a77f49e0a755a88f705f29b1",
        "IPY_MODEL_9edce800495a4614833fb0316df8cafb"
       ],
       "layout": "IPY_MODEL_7c0d2a2c700c4613a3883e755c70b1d5"
      }
     },
     "321ca8749dc14c1eba5c5276a4a28e56": {
      "model_module": "@jupyter-widgets/controls",
      "model_module_version": "1.5.0",
      "model_name": "HBoxModel",
      "state": {
       "_dom_classes": [],
       "_model_module": "@jupyter-widgets/controls",
       "_model_module_version": "1.5.0",
       "_model_name": "HBoxModel",
       "_view_count": null,
       "_view_module": "@jupyter-widgets/controls",
       "_view_module_version": "1.5.0",
       "_view_name": "HBoxView",
       "box_style": "",
       "children": [
        "IPY_MODEL_36a2f7c36ee1489899fc3496d10abb9c",
        "IPY_MODEL_55020d4f5b7a45989849d232b70e5a50",
        "IPY_MODEL_e2eb27f8f7d14a058056c4cb3555a6c8"
       ],
       "layout": "IPY_MODEL_25b56c5814f643669c809360899043de"
      }
     },
     "3368831e647f4848ac8c6e23b13d68fa": {
      "model_module": "@jupyter-widgets/controls",
      "model_module_version": "1.5.0",
      "model_name": "DescriptionStyleModel",
      "state": {
       "_model_module": "@jupyter-widgets/controls",
       "_model_module_version": "1.5.0",
       "_model_name": "DescriptionStyleModel",
       "_view_count": null,
       "_view_module": "@jupyter-widgets/base",
       "_view_module_version": "1.2.0",
       "_view_name": "StyleView",
       "description_width": ""
      }
     },
     "357c971fd78b472d871d173d3d27a607": {
      "model_module": "@jupyter-widgets/base",
      "model_module_version": "1.2.0",
      "model_name": "LayoutModel",
      "state": {
       "_model_module": "@jupyter-widgets/base",
       "_model_module_version": "1.2.0",
       "_model_name": "LayoutModel",
       "_view_count": null,
       "_view_module": "@jupyter-widgets/base",
       "_view_module_version": "1.2.0",
       "_view_name": "LayoutView",
       "align_content": null,
       "align_items": null,
       "align_self": null,
       "border": null,
       "bottom": null,
       "display": null,
       "flex": null,
       "flex_flow": null,
       "grid_area": null,
       "grid_auto_columns": null,
       "grid_auto_flow": null,
       "grid_auto_rows": null,
       "grid_column": null,
       "grid_gap": null,
       "grid_row": null,
       "grid_template_areas": null,
       "grid_template_columns": null,
       "grid_template_rows": null,
       "height": null,
       "justify_content": null,
       "justify_items": null,
       "left": null,
       "margin": null,
       "max_height": null,
       "max_width": null,
       "min_height": null,
       "min_width": null,
       "object_fit": null,
       "object_position": null,
       "order": null,
       "overflow": null,
       "overflow_x": null,
       "overflow_y": null,
       "padding": null,
       "right": null,
       "top": null,
       "visibility": null,
       "width": null
      }
     },
     "36a2f7c36ee1489899fc3496d10abb9c": {
      "model_module": "@jupyter-widgets/controls",
      "model_module_version": "1.5.0",
      "model_name": "HTMLModel",
      "state": {
       "_dom_classes": [],
       "_model_module": "@jupyter-widgets/controls",
       "_model_module_version": "1.5.0",
       "_model_name": "HTMLModel",
       "_view_count": null,
       "_view_module": "@jupyter-widgets/controls",
       "_view_module_version": "1.5.0",
       "_view_name": "HTMLView",
       "description": "",
       "description_tooltip": null,
       "layout": "IPY_MODEL_88362563341a4b1ca97fd65adc131660",
       "placeholder": "​",
       "style": "IPY_MODEL_3368831e647f4848ac8c6e23b13d68fa",
       "value": "Downloading (…)okenizer_config.json: 100%"
      }
     },
     "37d8fdbff9a54529b7ca85f8854e1e28": {
      "model_module": "@jupyter-widgets/controls",
      "model_module_version": "1.5.0",
      "model_name": "HBoxModel",
      "state": {
       "_dom_classes": [],
       "_model_module": "@jupyter-widgets/controls",
       "_model_module_version": "1.5.0",
       "_model_name": "HBoxModel",
       "_view_count": null,
       "_view_module": "@jupyter-widgets/controls",
       "_view_module_version": "1.5.0",
       "_view_name": "HBoxView",
       "box_style": "",
       "children": [
        "IPY_MODEL_b332d6590fbf4ffb929ba7957d00bd1b",
        "IPY_MODEL_aef1427844e0470cac21aa4c20fffeeb",
        "IPY_MODEL_e977a55362334c18b6c43460e6c00986"
       ],
       "layout": "IPY_MODEL_4ab224b0d4494903aca663438ccd2980"
      }
     },
     "42280c7c16fe4fb689c8c6bdee87302a": {
      "model_module": "@jupyter-widgets/controls",
      "model_module_version": "1.5.0",
      "model_name": "DescriptionStyleModel",
      "state": {
       "_model_module": "@jupyter-widgets/controls",
       "_model_module_version": "1.5.0",
       "_model_name": "DescriptionStyleModel",
       "_view_count": null,
       "_view_module": "@jupyter-widgets/base",
       "_view_module_version": "1.2.0",
       "_view_name": "StyleView",
       "description_width": ""
      }
     },
     "44eb7138ea14454a9bc2be3e076acd65": {
      "model_module": "@jupyter-widgets/base",
      "model_module_version": "1.2.0",
      "model_name": "LayoutModel",
      "state": {
       "_model_module": "@jupyter-widgets/base",
       "_model_module_version": "1.2.0",
       "_model_name": "LayoutModel",
       "_view_count": null,
       "_view_module": "@jupyter-widgets/base",
       "_view_module_version": "1.2.0",
       "_view_name": "LayoutView",
       "align_content": null,
       "align_items": null,
       "align_self": null,
       "border": null,
       "bottom": null,
       "display": null,
       "flex": null,
       "flex_flow": null,
       "grid_area": null,
       "grid_auto_columns": null,
       "grid_auto_flow": null,
       "grid_auto_rows": null,
       "grid_column": null,
       "grid_gap": null,
       "grid_row": null,
       "grid_template_areas": null,
       "grid_template_columns": null,
       "grid_template_rows": null,
       "height": null,
       "justify_content": null,
       "justify_items": null,
       "left": null,
       "margin": null,
       "max_height": null,
       "max_width": null,
       "min_height": null,
       "min_width": null,
       "object_fit": null,
       "object_position": null,
       "order": null,
       "overflow": null,
       "overflow_x": null,
       "overflow_y": null,
       "padding": null,
       "right": null,
       "top": null,
       "visibility": null,
       "width": null
      }
     },
     "4636345d0be04e258614ff3b58915f52": {
      "model_module": "@jupyter-widgets/base",
      "model_module_version": "1.2.0",
      "model_name": "LayoutModel",
      "state": {
       "_model_module": "@jupyter-widgets/base",
       "_model_module_version": "1.2.0",
       "_model_name": "LayoutModel",
       "_view_count": null,
       "_view_module": "@jupyter-widgets/base",
       "_view_module_version": "1.2.0",
       "_view_name": "LayoutView",
       "align_content": null,
       "align_items": null,
       "align_self": null,
       "border": null,
       "bottom": null,
       "display": null,
       "flex": null,
       "flex_flow": null,
       "grid_area": null,
       "grid_auto_columns": null,
       "grid_auto_flow": null,
       "grid_auto_rows": null,
       "grid_column": null,
       "grid_gap": null,
       "grid_row": null,
       "grid_template_areas": null,
       "grid_template_columns": null,
       "grid_template_rows": null,
       "height": null,
       "justify_content": null,
       "justify_items": null,
       "left": null,
       "margin": null,
       "max_height": null,
       "max_width": null,
       "min_height": null,
       "min_width": null,
       "object_fit": null,
       "object_position": null,
       "order": null,
       "overflow": null,
       "overflow_x": null,
       "overflow_y": null,
       "padding": null,
       "right": null,
       "top": null,
       "visibility": null,
       "width": null
      }
     },
     "4ab224b0d4494903aca663438ccd2980": {
      "model_module": "@jupyter-widgets/base",
      "model_module_version": "1.2.0",
      "model_name": "LayoutModel",
      "state": {
       "_model_module": "@jupyter-widgets/base",
       "_model_module_version": "1.2.0",
       "_model_name": "LayoutModel",
       "_view_count": null,
       "_view_module": "@jupyter-widgets/base",
       "_view_module_version": "1.2.0",
       "_view_name": "LayoutView",
       "align_content": null,
       "align_items": null,
       "align_self": null,
       "border": null,
       "bottom": null,
       "display": null,
       "flex": null,
       "flex_flow": null,
       "grid_area": null,
       "grid_auto_columns": null,
       "grid_auto_flow": null,
       "grid_auto_rows": null,
       "grid_column": null,
       "grid_gap": null,
       "grid_row": null,
       "grid_template_areas": null,
       "grid_template_columns": null,
       "grid_template_rows": null,
       "height": null,
       "justify_content": null,
       "justify_items": null,
       "left": null,
       "margin": null,
       "max_height": null,
       "max_width": null,
       "min_height": null,
       "min_width": null,
       "object_fit": null,
       "object_position": null,
       "order": null,
       "overflow": null,
       "overflow_x": null,
       "overflow_y": null,
       "padding": null,
       "right": null,
       "top": null,
       "visibility": null,
       "width": null
      }
     },
     "523f5cd4254e4ec8be1a0f70d34e5052": {
      "model_module": "@jupyter-widgets/controls",
      "model_module_version": "1.5.0",
      "model_name": "DescriptionStyleModel",
      "state": {
       "_model_module": "@jupyter-widgets/controls",
       "_model_module_version": "1.5.0",
       "_model_name": "DescriptionStyleModel",
       "_view_count": null,
       "_view_module": "@jupyter-widgets/base",
       "_view_module_version": "1.2.0",
       "_view_name": "StyleView",
       "description_width": ""
      }
     },
     "55020d4f5b7a45989849d232b70e5a50": {
      "model_module": "@jupyter-widgets/controls",
      "model_module_version": "1.5.0",
      "model_name": "FloatProgressModel",
      "state": {
       "_dom_classes": [],
       "_model_module": "@jupyter-widgets/controls",
       "_model_module_version": "1.5.0",
       "_model_name": "FloatProgressModel",
       "_view_count": null,
       "_view_module": "@jupyter-widgets/controls",
       "_view_module_version": "1.5.0",
       "_view_name": "ProgressView",
       "bar_style": "success",
       "description": "",
       "description_tooltip": null,
       "layout": "IPY_MODEL_bfb53734ca9d4fe69355d283e5ac1758",
       "max": 28,
       "min": 0,
       "orientation": "horizontal",
       "style": "IPY_MODEL_5648bacaf02d4250bab18209791c9bcd",
       "value": 28
      }
     },
     "5648bacaf02d4250bab18209791c9bcd": {
      "model_module": "@jupyter-widgets/controls",
      "model_module_version": "1.5.0",
      "model_name": "ProgressStyleModel",
      "state": {
       "_model_module": "@jupyter-widgets/controls",
       "_model_module_version": "1.5.0",
       "_model_name": "ProgressStyleModel",
       "_view_count": null,
       "_view_module": "@jupyter-widgets/base",
       "_view_module_version": "1.2.0",
       "_view_name": "StyleView",
       "bar_color": null,
       "description_width": ""
      }
     },
     "77fc47600adb491dbe62203f934e3758": {
      "model_module": "@jupyter-widgets/base",
      "model_module_version": "1.2.0",
      "model_name": "LayoutModel",
      "state": {
       "_model_module": "@jupyter-widgets/base",
       "_model_module_version": "1.2.0",
       "_model_name": "LayoutModel",
       "_view_count": null,
       "_view_module": "@jupyter-widgets/base",
       "_view_module_version": "1.2.0",
       "_view_name": "LayoutView",
       "align_content": null,
       "align_items": null,
       "align_self": null,
       "border": null,
       "bottom": null,
       "display": null,
       "flex": null,
       "flex_flow": null,
       "grid_area": null,
       "grid_auto_columns": null,
       "grid_auto_flow": null,
       "grid_auto_rows": null,
       "grid_column": null,
       "grid_gap": null,
       "grid_row": null,
       "grid_template_areas": null,
       "grid_template_columns": null,
       "grid_template_rows": null,
       "height": null,
       "justify_content": null,
       "justify_items": null,
       "left": null,
       "margin": null,
       "max_height": null,
       "max_width": null,
       "min_height": null,
       "min_width": null,
       "object_fit": null,
       "object_position": null,
       "order": null,
       "overflow": null,
       "overflow_x": null,
       "overflow_y": null,
       "padding": null,
       "right": null,
       "top": null,
       "visibility": null,
       "width": null
      }
     },
     "794fa9b172ac4cec85d7d3f987a98829": {
      "model_module": "@jupyter-widgets/controls",
      "model_module_version": "1.5.0",
      "model_name": "HTMLModel",
      "state": {
       "_dom_classes": [],
       "_model_module": "@jupyter-widgets/controls",
       "_model_module_version": "1.5.0",
       "_model_name": "HTMLModel",
       "_view_count": null,
       "_view_module": "@jupyter-widgets/controls",
       "_view_module_version": "1.5.0",
       "_view_name": "HTMLView",
       "description": "",
       "description_tooltip": null,
       "layout": "IPY_MODEL_0c0d1f44b221418b9bf5aed71b6d15ad",
       "placeholder": "​",
       "style": "IPY_MODEL_0efc4bf9c65642d1a58ef2eac1cdd570",
       "value": " 570/570 [00:00&lt;00:00, 22.5kB/s]"
      }
     },
     "7b744ebed9c24acdaf59b414cc562ed8": {
      "model_module": "@jupyter-widgets/controls",
      "model_module_version": "1.5.0",
      "model_name": "DescriptionStyleModel",
      "state": {
       "_model_module": "@jupyter-widgets/controls",
       "_model_module_version": "1.5.0",
       "_model_name": "DescriptionStyleModel",
       "_view_count": null,
       "_view_module": "@jupyter-widgets/base",
       "_view_module_version": "1.2.0",
       "_view_name": "StyleView",
       "description_width": ""
      }
     },
     "7c0d2a2c700c4613a3883e755c70b1d5": {
      "model_module": "@jupyter-widgets/base",
      "model_module_version": "1.2.0",
      "model_name": "LayoutModel",
      "state": {
       "_model_module": "@jupyter-widgets/base",
       "_model_module_version": "1.2.0",
       "_model_name": "LayoutModel",
       "_view_count": null,
       "_view_module": "@jupyter-widgets/base",
       "_view_module_version": "1.2.0",
       "_view_name": "LayoutView",
       "align_content": null,
       "align_items": null,
       "align_self": null,
       "border": null,
       "bottom": null,
       "display": null,
       "flex": null,
       "flex_flow": null,
       "grid_area": null,
       "grid_auto_columns": null,
       "grid_auto_flow": null,
       "grid_auto_rows": null,
       "grid_column": null,
       "grid_gap": null,
       "grid_row": null,
       "grid_template_areas": null,
       "grid_template_columns": null,
       "grid_template_rows": null,
       "height": null,
       "justify_content": null,
       "justify_items": null,
       "left": null,
       "margin": null,
       "max_height": null,
       "max_width": null,
       "min_height": null,
       "min_width": null,
       "object_fit": null,
       "object_position": null,
       "order": null,
       "overflow": null,
       "overflow_x": null,
       "overflow_y": null,
       "padding": null,
       "right": null,
       "top": null,
       "visibility": null,
       "width": null
      }
     },
     "838911eeaa7e434094ff905a1e1af9f7": {
      "model_module": "@jupyter-widgets/controls",
      "model_module_version": "1.5.0",
      "model_name": "HBoxModel",
      "state": {
       "_dom_classes": [],
       "_model_module": "@jupyter-widgets/controls",
       "_model_module_version": "1.5.0",
       "_model_name": "HBoxModel",
       "_view_count": null,
       "_view_module": "@jupyter-widgets/controls",
       "_view_module_version": "1.5.0",
       "_view_name": "HBoxView",
       "box_style": "",
       "children": [
        "IPY_MODEL_cf90cd938c8243189f28201d3dcfaf12",
        "IPY_MODEL_dca44851590841baa3cee40ade6361e6",
        "IPY_MODEL_1f156f7ddc1c416a8f9935928823a00c"
       ],
       "layout": "IPY_MODEL_4636345d0be04e258614ff3b58915f52"
      }
     },
     "863bb6b6a77f49e0a755a88f705f29b1": {
      "model_module": "@jupyter-widgets/controls",
      "model_module_version": "1.5.0",
      "model_name": "FloatProgressModel",
      "state": {
       "_dom_classes": [],
       "_model_module": "@jupyter-widgets/controls",
       "_model_module_version": "1.5.0",
       "_model_name": "FloatProgressModel",
       "_view_count": null,
       "_view_module": "@jupyter-widgets/controls",
       "_view_module_version": "1.5.0",
       "_view_name": "ProgressView",
       "bar_style": "success",
       "description": "",
       "description_tooltip": null,
       "layout": "IPY_MODEL_2a099881d9b64cf7be52cb08e7f521b6",
       "max": 571,
       "min": 0,
       "orientation": "horizontal",
       "style": "IPY_MODEL_1c779aacabd44bbaaffd89ff17d70008",
       "value": 571
      }
     },
     "88362563341a4b1ca97fd65adc131660": {
      "model_module": "@jupyter-widgets/base",
      "model_module_version": "1.2.0",
      "model_name": "LayoutModel",
      "state": {
       "_model_module": "@jupyter-widgets/base",
       "_model_module_version": "1.2.0",
       "_model_name": "LayoutModel",
       "_view_count": null,
       "_view_module": "@jupyter-widgets/base",
       "_view_module_version": "1.2.0",
       "_view_name": "LayoutView",
       "align_content": null,
       "align_items": null,
       "align_self": null,
       "border": null,
       "bottom": null,
       "display": null,
       "flex": null,
       "flex_flow": null,
       "grid_area": null,
       "grid_auto_columns": null,
       "grid_auto_flow": null,
       "grid_auto_rows": null,
       "grid_column": null,
       "grid_gap": null,
       "grid_row": null,
       "grid_template_areas": null,
       "grid_template_columns": null,
       "grid_template_rows": null,
       "height": null,
       "justify_content": null,
       "justify_items": null,
       "left": null,
       "margin": null,
       "max_height": null,
       "max_width": null,
       "min_height": null,
       "min_width": null,
       "object_fit": null,
       "object_position": null,
       "order": null,
       "overflow": null,
       "overflow_x": null,
       "overflow_y": null,
       "padding": null,
       "right": null,
       "top": null,
       "visibility": null,
       "width": null
      }
     },
     "8aae26b0b7d04442a125844c5bddb4eb": {
      "model_module": "@jupyter-widgets/base",
      "model_module_version": "1.2.0",
      "model_name": "LayoutModel",
      "state": {
       "_model_module": "@jupyter-widgets/base",
       "_model_module_version": "1.2.0",
       "_model_name": "LayoutModel",
       "_view_count": null,
       "_view_module": "@jupyter-widgets/base",
       "_view_module_version": "1.2.0",
       "_view_name": "LayoutView",
       "align_content": null,
       "align_items": null,
       "align_self": null,
       "border": null,
       "bottom": null,
       "display": null,
       "flex": null,
       "flex_flow": null,
       "grid_area": null,
       "grid_auto_columns": null,
       "grid_auto_flow": null,
       "grid_auto_rows": null,
       "grid_column": null,
       "grid_gap": null,
       "grid_row": null,
       "grid_template_areas": null,
       "grid_template_columns": null,
       "grid_template_rows": null,
       "height": null,
       "justify_content": null,
       "justify_items": null,
       "left": null,
       "margin": null,
       "max_height": null,
       "max_width": null,
       "min_height": null,
       "min_width": null,
       "object_fit": null,
       "object_position": null,
       "order": null,
       "overflow": null,
       "overflow_x": null,
       "overflow_y": null,
       "padding": null,
       "right": null,
       "top": null,
       "visibility": null,
       "width": null
      }
     },
     "98b0467ca76f4b73b99993add74dbb6d": {
      "model_module": "@jupyter-widgets/controls",
      "model_module_version": "1.5.0",
      "model_name": "FloatProgressModel",
      "state": {
       "_dom_classes": [],
       "_model_module": "@jupyter-widgets/controls",
       "_model_module_version": "1.5.0",
       "_model_name": "FloatProgressModel",
       "_view_count": null,
       "_view_module": "@jupyter-widgets/controls",
       "_view_module_version": "1.5.0",
       "_view_name": "ProgressView",
       "bar_style": "success",
       "description": "",
       "description_tooltip": null,
       "layout": "IPY_MODEL_44eb7138ea14454a9bc2be3e076acd65",
       "max": 570,
       "min": 0,
       "orientation": "horizontal",
       "style": "IPY_MODEL_a0a888da828440a98dddacc961244f2c",
       "value": 570
      }
     },
     "9edce800495a4614833fb0316df8cafb": {
      "model_module": "@jupyter-widgets/controls",
      "model_module_version": "1.5.0",
      "model_name": "HTMLModel",
      "state": {
       "_dom_classes": [],
       "_model_module": "@jupyter-widgets/controls",
       "_model_module_version": "1.5.0",
       "_model_name": "HTMLModel",
       "_view_count": null,
       "_view_module": "@jupyter-widgets/controls",
       "_view_module_version": "1.5.0",
       "_view_name": "HTMLView",
       "description": "",
       "description_tooltip": null,
       "layout": "IPY_MODEL_a31e1e1f8b1e4aa38547055ab6d98175",
       "placeholder": "​",
       "style": "IPY_MODEL_23e24cc660cc4e63a2482d0e713856ba",
       "value": " 571/571 [00:00&lt;00:00, 26.1kB/s]"
      }
     },
     "a0a888da828440a98dddacc961244f2c": {
      "model_module": "@jupyter-widgets/controls",
      "model_module_version": "1.5.0",
      "model_name": "ProgressStyleModel",
      "state": {
       "_model_module": "@jupyter-widgets/controls",
       "_model_module_version": "1.5.0",
       "_model_name": "ProgressStyleModel",
       "_view_count": null,
       "_view_module": "@jupyter-widgets/base",
       "_view_module_version": "1.2.0",
       "_view_name": "StyleView",
       "bar_color": null,
       "description_width": ""
      }
     },
     "a31e1e1f8b1e4aa38547055ab6d98175": {
      "model_module": "@jupyter-widgets/base",
      "model_module_version": "1.2.0",
      "model_name": "LayoutModel",
      "state": {
       "_model_module": "@jupyter-widgets/base",
       "_model_module_version": "1.2.0",
       "_model_name": "LayoutModel",
       "_view_count": null,
       "_view_module": "@jupyter-widgets/base",
       "_view_module_version": "1.2.0",
       "_view_name": "LayoutView",
       "align_content": null,
       "align_items": null,
       "align_self": null,
       "border": null,
       "bottom": null,
       "display": null,
       "flex": null,
       "flex_flow": null,
       "grid_area": null,
       "grid_auto_columns": null,
       "grid_auto_flow": null,
       "grid_auto_rows": null,
       "grid_column": null,
       "grid_gap": null,
       "grid_row": null,
       "grid_template_areas": null,
       "grid_template_columns": null,
       "grid_template_rows": null,
       "height": null,
       "justify_content": null,
       "justify_items": null,
       "left": null,
       "margin": null,
       "max_height": null,
       "max_width": null,
       "min_height": null,
       "min_width": null,
       "object_fit": null,
       "object_position": null,
       "order": null,
       "overflow": null,
       "overflow_x": null,
       "overflow_y": null,
       "padding": null,
       "right": null,
       "top": null,
       "visibility": null,
       "width": null
      }
     },
     "aef1427844e0470cac21aa4c20fffeeb": {
      "model_module": "@jupyter-widgets/controls",
      "model_module_version": "1.5.0",
      "model_name": "FloatProgressModel",
      "state": {
       "_dom_classes": [],
       "_model_module": "@jupyter-widgets/controls",
       "_model_module_version": "1.5.0",
       "_model_name": "FloatProgressModel",
       "_view_count": null,
       "_view_module": "@jupyter-widgets/controls",
       "_view_module_version": "1.5.0",
       "_view_name": "ProgressView",
       "bar_style": "success",
       "description": "",
       "description_tooltip": null,
       "layout": "IPY_MODEL_226032dd444f40858e766cf43bff2cc6",
       "max": 231508,
       "min": 0,
       "orientation": "horizontal",
       "style": "IPY_MODEL_bdddde674e874a4fa6d5b5605d25fe1c",
       "value": 231508
      }
     },
     "b332d6590fbf4ffb929ba7957d00bd1b": {
      "model_module": "@jupyter-widgets/controls",
      "model_module_version": "1.5.0",
      "model_name": "HTMLModel",
      "state": {
       "_dom_classes": [],
       "_model_module": "@jupyter-widgets/controls",
       "_model_module_version": "1.5.0",
       "_model_name": "HTMLModel",
       "_view_count": null,
       "_view_module": "@jupyter-widgets/controls",
       "_view_module_version": "1.5.0",
       "_view_name": "HTMLView",
       "description": "",
       "description_tooltip": null,
       "layout": "IPY_MODEL_29fd5c4f6d414eceb6ae6e319e84bd55",
       "placeholder": "​",
       "style": "IPY_MODEL_12ea28dc143d4c95911ddf6afffcc4ab",
       "value": "Downloading (…)solve/main/vocab.txt: 100%"
      }
     },
     "bdddde674e874a4fa6d5b5605d25fe1c": {
      "model_module": "@jupyter-widgets/controls",
      "model_module_version": "1.5.0",
      "model_name": "ProgressStyleModel",
      "state": {
       "_model_module": "@jupyter-widgets/controls",
       "_model_module_version": "1.5.0",
       "_model_name": "ProgressStyleModel",
       "_view_count": null,
       "_view_module": "@jupyter-widgets/base",
       "_view_module_version": "1.2.0",
       "_view_name": "StyleView",
       "bar_color": null,
       "description_width": ""
      }
     },
     "bfb53734ca9d4fe69355d283e5ac1758": {
      "model_module": "@jupyter-widgets/base",
      "model_module_version": "1.2.0",
      "model_name": "LayoutModel",
      "state": {
       "_model_module": "@jupyter-widgets/base",
       "_model_module_version": "1.2.0",
       "_model_name": "LayoutModel",
       "_view_count": null,
       "_view_module": "@jupyter-widgets/base",
       "_view_module_version": "1.2.0",
       "_view_name": "LayoutView",
       "align_content": null,
       "align_items": null,
       "align_self": null,
       "border": null,
       "bottom": null,
       "display": null,
       "flex": null,
       "flex_flow": null,
       "grid_area": null,
       "grid_auto_columns": null,
       "grid_auto_flow": null,
       "grid_auto_rows": null,
       "grid_column": null,
       "grid_gap": null,
       "grid_row": null,
       "grid_template_areas": null,
       "grid_template_columns": null,
       "grid_template_rows": null,
       "height": null,
       "justify_content": null,
       "justify_items": null,
       "left": null,
       "margin": null,
       "max_height": null,
       "max_width": null,
       "min_height": null,
       "min_width": null,
       "object_fit": null,
       "object_position": null,
       "order": null,
       "overflow": null,
       "overflow_x": null,
       "overflow_y": null,
       "padding": null,
       "right": null,
       "top": null,
       "visibility": null,
       "width": null
      }
     },
     "c6cd4db717c7408ca56177a8b7a49f71": {
      "model_module": "@jupyter-widgets/controls",
      "model_module_version": "1.5.0",
      "model_name": "HTMLModel",
      "state": {
       "_dom_classes": [],
       "_model_module": "@jupyter-widgets/controls",
       "_model_module_version": "1.5.0",
       "_model_name": "HTMLModel",
       "_view_count": null,
       "_view_module": "@jupyter-widgets/controls",
       "_view_module_version": "1.5.0",
       "_view_name": "HTMLView",
       "description": "",
       "description_tooltip": null,
       "layout": "IPY_MODEL_054b303f627149898b8f3630e0a2c751",
       "placeholder": "​",
       "style": "IPY_MODEL_f947734a611a405ca848c4e1d77f9142",
       "value": "Downloading (…)lve/main/config.json: 100%"
      }
     },
     "cf90cd938c8243189f28201d3dcfaf12": {
      "model_module": "@jupyter-widgets/controls",
      "model_module_version": "1.5.0",
      "model_name": "HTMLModel",
      "state": {
       "_dom_classes": [],
       "_model_module": "@jupyter-widgets/controls",
       "_model_module_version": "1.5.0",
       "_model_name": "HTMLModel",
       "_view_count": null,
       "_view_module": "@jupyter-widgets/controls",
       "_view_module_version": "1.5.0",
       "_view_name": "HTMLView",
       "description": "",
       "description_tooltip": null,
       "layout": "IPY_MODEL_fd1cc8476de745c299efd98479a5d722",
       "placeholder": "​",
       "style": "IPY_MODEL_15c9af5644314ddd927972d6f2d47218",
       "value": "Downloading tf_model.h5: 100%"
      }
     },
     "dca44851590841baa3cee40ade6361e6": {
      "model_module": "@jupyter-widgets/controls",
      "model_module_version": "1.5.0",
      "model_name": "FloatProgressModel",
      "state": {
       "_dom_classes": [],
       "_model_module": "@jupyter-widgets/controls",
       "_model_module_version": "1.5.0",
       "_model_name": "FloatProgressModel",
       "_view_count": null,
       "_view_module": "@jupyter-widgets/controls",
       "_view_module_version": "1.5.0",
       "_view_name": "ProgressView",
       "bar_style": "success",
       "description": "",
       "description_tooltip": null,
       "layout": "IPY_MODEL_8aae26b0b7d04442a125844c5bddb4eb",
       "max": 536063208,
       "min": 0,
       "orientation": "horizontal",
       "style": "IPY_MODEL_f157110d00774539837da593ff904cd8",
       "value": 536063208
      }
     },
     "e2eb27f8f7d14a058056c4cb3555a6c8": {
      "model_module": "@jupyter-widgets/controls",
      "model_module_version": "1.5.0",
      "model_name": "HTMLModel",
      "state": {
       "_dom_classes": [],
       "_model_module": "@jupyter-widgets/controls",
       "_model_module_version": "1.5.0",
       "_model_name": "HTMLModel",
       "_view_count": null,
       "_view_module": "@jupyter-widgets/controls",
       "_view_module_version": "1.5.0",
       "_view_name": "HTMLView",
       "description": "",
       "description_tooltip": null,
       "layout": "IPY_MODEL_357c971fd78b472d871d173d3d27a607",
       "placeholder": "​",
       "style": "IPY_MODEL_0a344401d35f48a98a71675d9a853b0d",
       "value": " 28.0/28.0 [00:00&lt;00:00, 1.76kB/s]"
      }
     },
     "e38ed8ef7b4244b7bf0df6a50c6a5955": {
      "model_module": "@jupyter-widgets/controls",
      "model_module_version": "1.5.0",
      "model_name": "HBoxModel",
      "state": {
       "_dom_classes": [],
       "_model_module": "@jupyter-widgets/controls",
       "_model_module_version": "1.5.0",
       "_model_name": "HBoxModel",
       "_view_count": null,
       "_view_module": "@jupyter-widgets/controls",
       "_view_module_version": "1.5.0",
       "_view_name": "HBoxView",
       "box_style": "",
       "children": [
        "IPY_MODEL_c6cd4db717c7408ca56177a8b7a49f71",
        "IPY_MODEL_98b0467ca76f4b73b99993add74dbb6d",
        "IPY_MODEL_794fa9b172ac4cec85d7d3f987a98829"
       ],
       "layout": "IPY_MODEL_f60b6b6600954824b206b780bab0aabb"
      }
     },
     "e977a55362334c18b6c43460e6c00986": {
      "model_module": "@jupyter-widgets/controls",
      "model_module_version": "1.5.0",
      "model_name": "HTMLModel",
      "state": {
       "_dom_classes": [],
       "_model_module": "@jupyter-widgets/controls",
       "_model_module_version": "1.5.0",
       "_model_name": "HTMLModel",
       "_view_count": null,
       "_view_module": "@jupyter-widgets/controls",
       "_view_module_version": "1.5.0",
       "_view_name": "HTMLView",
       "description": "",
       "description_tooltip": null,
       "layout": "IPY_MODEL_fceaa7784e1f4eccb4eec7aceae02640",
       "placeholder": "​",
       "style": "IPY_MODEL_523f5cd4254e4ec8be1a0f70d34e5052",
       "value": " 232k/232k [00:00&lt;00:00, 7.00MB/s]"
      }
     },
     "f157110d00774539837da593ff904cd8": {
      "model_module": "@jupyter-widgets/controls",
      "model_module_version": "1.5.0",
      "model_name": "ProgressStyleModel",
      "state": {
       "_model_module": "@jupyter-widgets/controls",
       "_model_module_version": "1.5.0",
       "_model_name": "ProgressStyleModel",
       "_view_count": null,
       "_view_module": "@jupyter-widgets/base",
       "_view_module_version": "1.2.0",
       "_view_name": "StyleView",
       "bar_color": null,
       "description_width": ""
      }
     },
     "f60b6b6600954824b206b780bab0aabb": {
      "model_module": "@jupyter-widgets/base",
      "model_module_version": "1.2.0",
      "model_name": "LayoutModel",
      "state": {
       "_model_module": "@jupyter-widgets/base",
       "_model_module_version": "1.2.0",
       "_model_name": "LayoutModel",
       "_view_count": null,
       "_view_module": "@jupyter-widgets/base",
       "_view_module_version": "1.2.0",
       "_view_name": "LayoutView",
       "align_content": null,
       "align_items": null,
       "align_self": null,
       "border": null,
       "bottom": null,
       "display": null,
       "flex": null,
       "flex_flow": null,
       "grid_area": null,
       "grid_auto_columns": null,
       "grid_auto_flow": null,
       "grid_auto_rows": null,
       "grid_column": null,
       "grid_gap": null,
       "grid_row": null,
       "grid_template_areas": null,
       "grid_template_columns": null,
       "grid_template_rows": null,
       "height": null,
       "justify_content": null,
       "justify_items": null,
       "left": null,
       "margin": null,
       "max_height": null,
       "max_width": null,
       "min_height": null,
       "min_width": null,
       "object_fit": null,
       "object_position": null,
       "order": null,
       "overflow": null,
       "overflow_x": null,
       "overflow_y": null,
       "padding": null,
       "right": null,
       "top": null,
       "visibility": null,
       "width": null
      }
     },
     "f947734a611a405ca848c4e1d77f9142": {
      "model_module": "@jupyter-widgets/controls",
      "model_module_version": "1.5.0",
      "model_name": "DescriptionStyleModel",
      "state": {
       "_model_module": "@jupyter-widgets/controls",
       "_model_module_version": "1.5.0",
       "_model_name": "DescriptionStyleModel",
       "_view_count": null,
       "_view_module": "@jupyter-widgets/base",
       "_view_module_version": "1.2.0",
       "_view_name": "StyleView",
       "description_width": ""
      }
     },
     "fceaa7784e1f4eccb4eec7aceae02640": {
      "model_module": "@jupyter-widgets/base",
      "model_module_version": "1.2.0",
      "model_name": "LayoutModel",
      "state": {
       "_model_module": "@jupyter-widgets/base",
       "_model_module_version": "1.2.0",
       "_model_name": "LayoutModel",
       "_view_count": null,
       "_view_module": "@jupyter-widgets/base",
       "_view_module_version": "1.2.0",
       "_view_name": "LayoutView",
       "align_content": null,
       "align_items": null,
       "align_self": null,
       "border": null,
       "bottom": null,
       "display": null,
       "flex": null,
       "flex_flow": null,
       "grid_area": null,
       "grid_auto_columns": null,
       "grid_auto_flow": null,
       "grid_auto_rows": null,
       "grid_column": null,
       "grid_gap": null,
       "grid_row": null,
       "grid_template_areas": null,
       "grid_template_columns": null,
       "grid_template_rows": null,
       "height": null,
       "justify_content": null,
       "justify_items": null,
       "left": null,
       "margin": null,
       "max_height": null,
       "max_width": null,
       "min_height": null,
       "min_width": null,
       "object_fit": null,
       "object_position": null,
       "order": null,
       "overflow": null,
       "overflow_x": null,
       "overflow_y": null,
       "padding": null,
       "right": null,
       "top": null,
       "visibility": null,
       "width": null
      }
     },
     "fd1cc8476de745c299efd98479a5d722": {
      "model_module": "@jupyter-widgets/base",
      "model_module_version": "1.2.0",
      "model_name": "LayoutModel",
      "state": {
       "_model_module": "@jupyter-widgets/base",
       "_model_module_version": "1.2.0",
       "_model_name": "LayoutModel",
       "_view_count": null,
       "_view_module": "@jupyter-widgets/base",
       "_view_module_version": "1.2.0",
       "_view_name": "LayoutView",
       "align_content": null,
       "align_items": null,
       "align_self": null,
       "border": null,
       "bottom": null,
       "display": null,
       "flex": null,
       "flex_flow": null,
       "grid_area": null,
       "grid_auto_columns": null,
       "grid_auto_flow": null,
       "grid_auto_rows": null,
       "grid_column": null,
       "grid_gap": null,
       "grid_row": null,
       "grid_template_areas": null,
       "grid_template_columns": null,
       "grid_template_rows": null,
       "height": null,
       "justify_content": null,
       "justify_items": null,
       "left": null,
       "margin": null,
       "max_height": null,
       "max_width": null,
       "min_height": null,
       "min_width": null,
       "object_fit": null,
       "object_position": null,
       "order": null,
       "overflow": null,
       "overflow_x": null,
       "overflow_y": null,
       "padding": null,
       "right": null,
       "top": null,
       "visibility": null,
       "width": null
      }
     },
     "ff0e02ef0d4b4f5481c958196a1edc94": {
      "model_module": "@jupyter-widgets/base",
      "model_module_version": "1.2.0",
      "model_name": "LayoutModel",
      "state": {
       "_model_module": "@jupyter-widgets/base",
       "_model_module_version": "1.2.0",
       "_model_name": "LayoutModel",
       "_view_count": null,
       "_view_module": "@jupyter-widgets/base",
       "_view_module_version": "1.2.0",
       "_view_name": "LayoutView",
       "align_content": null,
       "align_items": null,
       "align_self": null,
       "border": null,
       "bottom": null,
       "display": null,
       "flex": null,
       "flex_flow": null,
       "grid_area": null,
       "grid_auto_columns": null,
       "grid_auto_flow": null,
       "grid_auto_rows": null,
       "grid_column": null,
       "grid_gap": null,
       "grid_row": null,
       "grid_template_areas": null,
       "grid_template_columns": null,
       "grid_template_rows": null,
       "height": null,
       "justify_content": null,
       "justify_items": null,
       "left": null,
       "margin": null,
       "max_height": null,
       "max_width": null,
       "min_height": null,
       "min_width": null,
       "object_fit": null,
       "object_position": null,
       "order": null,
       "overflow": null,
       "overflow_x": null,
       "overflow_y": null,
       "padding": null,
       "right": null,
       "top": null,
       "visibility": null,
       "width": null
      }
     }
    },
    "version_major": 2,
    "version_minor": 0
   }
  }
 },
 "nbformat": 4,
 "nbformat_minor": 5
}
